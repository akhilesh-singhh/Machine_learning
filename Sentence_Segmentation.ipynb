{
  "cells": [
    {
      "cell_type": "code",
      "execution_count": 1,
      "metadata": {
        "colab": {
          "height": 334,
          "base_uri": "https://localhost:8080/"
        },
        "id": "C4HZx7Gndbrh",
        "outputId": "19b2006e-d6bb-42f5-8538-eee7d37a0b40"
      },
      "outputs": [
        {
          "output_type": "display_data",
          "data": {
            "text/plain": [
              "<IPython.core.display.Markdown object>"
            ],
            "text/markdown": "![Sample Visualization](data:image/png;base64,iVBORw0KGgoAAAANSUhEUgAAAZAAAAEsCAYAAADtt+XCAAAAOnRFWHRTb2Z0d2FyZQBNYXRwbG90bGliIHZlcnNpb24zLjEwLjAsIGh0dHBzOi8vbWF0cGxvdGxpYi5vcmcvlHJYcgAAAAlwSFlzAAAPYQAAD2EBqD+naQAAX4RJREFUeJztnXmYFNW5/7+9zz7DPhAYEHFBUaJoFPw9apSrYGIkcqNJTAJqjDEYQWJyJdGYqzGYmGhi5JrlRvHGBcWAW4yKgOACChNWgQFkkG0WZmC6p3um1zq/P6rPqVPVVT299zDzfp5nHpjp6u5T3VXne9712BhjDARBEASRJvZiD4AgCII4MSEBIQiCIDKCBIQgCILICBIQgiAIIiNIQAiCIIiMIAEhCIIgMoIEhCAIgsgIEhCCIAgiI0hACIIgiIwgASEIgiAyggSEIAiCyAgSEIIgCCIjSEAIgiCIjCABIQiCIDKCBIQgCILICBIQgiAIIiNIQIgTEpvNhpdffrnPvA9n9uzZmDFjhvj90ksvxbx58/L6nosXL0ZNTU1e34Pom5CAEKYcPXoUt912G+rq6uDxeFBbW4srr7wSH3zwQbGHljX19fWw2WxYv3696eOXX345rr32WgBAU1MTpk+fXsjh6Vi2bBkeeOCBnL3emDFj8Pvf/173t+uvvx67d+/O2XsQ/QdnsQdA9E5mzpyJcDiMp59+GmPHjkVLSwtWrlyJ9vb2Yg8tayZNmoSJEyfiySefxIUXXqh7bP/+/Vi9ejVee+01AEBtbW0xhigYOHBg3t+jtLQUpaWleX8fog/CCMLA8ePHGQD27rvvJj3ud7/7HZswYQIrKytjI0eOZLfddhvr7OwUjz/11FOsurqavfbaa+zUU09lpaWlbObMmSwQCLDFixez0aNHs5qaGvbDH/6QRaNR8bzRo0ez+++/n339619nZWVlbMSIEezxxx/XvTcAtnz5cvH7gQMH2Ne+9jVWXV3NBgwYwL7yla+wxsZGy7E/9thjrKqqigUCAd3f77vvPjZixAgxHvl9QqEQmzNnDqutrWUej4fV1dWxX/3qV4wxxhobGxkAtmnTpoTPcfXq1YwxxqLRKLvpppvYmDFjWElJCTv11FPZ73//e937z5o1i11zzTXi90suuYTNnTuXMcbY6tWrGYCEn1mzZjHGGNu7dy/7yle+woYOHcrKy8vZeeedx1asWKF7LeNz5e9J5n/+53/Y2LFjmcvlYqeeeir7v//7v4TP/69//SubMWMGKy0tZePGjWOvvPKK5edN9E3IhUUkUFFRgYqKCrz88ssIhUKWx9ntdjz22GP45JNP8PTTT2PVqlX4yU9+ojumq6sLjz32GJYsWYI333wT7777Lr761a/ijTfewBtvvIG///3v+POf/4yXXnpJ97yHH34YEydOxKZNm3D33Xdj7ty5WLFihek4IpEIrrzySlRWVuK9997DBx98gIqKCkybNg3hcNj0OTfccANCoZDufRljePrppzF79mw4HI6E5zz22GN49dVX8eKLL6KhoQHPPvssxowZY/n5GFEUBSNHjsTSpUuxY8cO/PznP8dPf/pTvPjiiyk9f8qUKWhqahI/q1atQklJCS6++GIAgN/vx1VXXYWVK1di06ZNmDZtGq6++mocOHAAgOoOGzlyJO6//37xGmYsX74cc+fOxY9+9CNs374dt956K2688UasXr1ad9x///d/47rrrsPWrVtx1VVX4YYbbsCxY8dS/jyIPkCxFYzonbz00ktswIABrKSkhE2ZMoUtWLCAbdmyJelzli5dygYNGiR+f+qppxgAtnfvXvG3W2+9lZWVlekslSuvvJLdeuut4vfRo0ezadOm6V77+uuvZ9OnTxe/Q7IM/v73v7PTTjuNKYoiHg+FQqy0tJS99dZbluP9+te/zi655BLx+8qVKxkAtmfPHtP3+eEPf8guu+wy3ftwUrFAzJgzZw6bOXOm+D2ZBSLT1tbGxo4dy37wgx9YvjZjjJ155pnsj3/8o/h99OjR7NFHH9UdY7RApkyZwm655RbdMV/72tfYVVddJX4HwO655x7xu9/vZwDYv/71r6TjIfoWZIEQpsycORNHjhzBq6++imnTpuHdd9/Fueeei8WLF4tj3nnnHVx++eX43Oc+h8rKSnz7299Ge3s7urq6xDFlZWU4+eSTxe/Dhg3DmDFjUFFRoftba2ur7v0nT56c8PvOnTtNx7plyxbs3bsXlZWVwnoaOHAggsEgPv30U8tzvOmmm7B27VpxzJNPPolLLrkE48aNMz1+9uzZ2Lx5M0477TTccccdePvtty1f24pFixZh0qRJGDJkCCoqKvCXv/xFWAipEolEMHPmTIwePRp/+MMfxN/9fj/uuusujB8/HjU1NaioqMDOnTvTfv2dO3fioosu0v3toosuSvj8zz77bPH/8vJyVFVVJXyPRN+GBISwpKSkBP/xH/+Be++9Fx9++CFmz56N++67D4AabP7yl7+Ms88+G//4xz9QX1+PRYsWAYDObeRyuXSvabPZTP+mKErG4/T7/Zg0aRI2b96s+9m9eze++c1vWj7v8ssvR11dHRYvXgyfz4dly5bh5ptvtjz+3HPPRWNjIx544AF0d3fjuuuuw3/+538CUN15gOoG40QiEd3zlyxZgrvuugs333wz3n77bWzevBk33nijpZvNittuuw0HDx7E0qVL4XRqeTB33XUXli9fjl/96ld47733sHnzZpx11llpv36q5Pp7JE48KAuLSJkzzjhD1ETU19dDURT87ne/E5Nnqr78VDCm2K5fvx7jx483Pfbcc8/FCy+8gKFDh6Kqqirl97Db7bjxxhvxt7/9DZ/73OfgdruFIFhRVVWF66+/Htdffz3+8z//E9OmTcOxY8cwZMgQAGra7znnnAMA2Lx5s+65H3zwAaZMmYIf/OAH4m/JLCQzHnnkEbz44ov48MMPMWjQoITXnz17Nr761a8CUIV1//79umPcbjdisVjS9xg/fjw++OADzJo1S/faZ5xxRlpjJfo+ZIEQCbS3t+Oyyy7DM888g61bt6KxsRFLly7Fb37zG1xzzTUAgHHjxiESieCPf/wj9u3bh7///e/405/+lLMxfPDBB/jNb36D3bt3Y9GiRVi6dCnmzp1reuwNN9yAwYMH45prrsF7772HxsZGvPvuu7jjjjtw6NChpO9z44034vDhw/jpT3+Kb3zjG0nTWR955BE8//zz2LVrF3bv3o2lS5eitrYWNTU1KC0txYUXXoiHHnoIO3fuxJo1a3DPPffonn/KKadg48aNeOutt7B7927ce++92LBhQ8qfyTvvvIOf/OQnePjhhzF48GA0NzejubkZXq9XvP6yZcuwefNmbNmyBd/85jcTLIIxY8Zg7dq1OHz4MNra2kzf58c//jEWL16MJ554Anv27MEjjzyCZcuW4a677kp5rET/gASESKCiogIXXHABHn30UVx88cWYMGEC7r33Xtxyyy14/PHHAQATJ07EI488gl//+teYMGECnn32WSxcuDBnY/jRj36EjRs34pxzzsEvf/lLPPLII7jyyitNjy0rK8PatWtRV1eHa6+9FuPHj8fNN9+MYDDYo0VSV1eHqVOn4vjx47jpppuSHltZWYnf/OY3OO+883D++edj//79eOONN4QF9uSTTyIajWLSpEmYN28efvnLX+qef+utt+Laa6/F9ddfjwsuuADt7e06a6Qn3n//fcRiMXz/+9/H8OHDxQ8X1kceeQQDBgzAlClTcPXVV+PKK6/Eueeeq3uN+++/H/v378fJJ58srCYjM2bMwB/+8Af89re/xZlnnok///nPeOqpp3DppZemPFaif2BjstOWIHoBY8aMwbx58/LewoMgiOwgC4QgCILICBIQgiAIIiPIhUUQBEFkBFkgBEEQREaQgBAEQRAZQQJCEARBZESfqERXFAVHjhxBZWUlbDZbsYdDEASRNYwxdHZ2YsSIEaLWqLfRJwTkyJEjGDVqVLGHQRAEkXMOHjyIkSNHFnsYpvQJAamsrASgftDp9EIiCILorfh8PowaNUrMb72RPiEg3G1VVVVFAkIQRJ+iN7vle6djjSAIguj1kIAQBEEQGUECQhAEQWQECQhBEASRESQgBEEQREaQgBAEQRAZ0SfSeAmCIHojncEIfvf2blSWODH/P07t1Sm5mUAWCEEQRJ44Fghj8Yf78bf3G/uceAAkIARBEHmjMxgFAFSW9E1nDwkIQRBEntAExFXkkeQHEhCCIIg84Q+pAlLhIQuEIAiCSIPOYAQAubAIgiCINOEWCAkIQRAEkRYiBuKhGAhBEASRBr64C6uCLBCCIAgiHfyUxksQBEFkAndhURYWQRAEkRY8iF5FdSAEQRBEOlAaL3FCoCgMrb5gsYdBEISEcGGRgCSycOFCnH/++aisrMTQoUMxY8YMNDQ06I4JBoOYM2cOBg0ahIqKCsycORMtLS3i8S1btuAb3/gGRo0ahdLSUowfPx5/+MMfshlWv+SBf+7AF361Ehv3Hyv2UIh+AGMMC9/YiSUfHyj2UHo11MokCWvWrMGcOXOwfv16rFixApFIBFdccQUCgYA45s4778Rrr72GpUuXYs2aNThy5AiuvfZa8Xh9fT2GDh2KZ555Bp988gl+9rOfYcGCBXj88cezGVq/Y1dTJwBgZ5OvyCMh+gOftXfhz2v3YeG/dhV7KL2avt7KJKuzevPNN3W/L168GEOHDkV9fT0uvvhieL1e/O1vf8Nzzz2Hyy67DADw1FNPYfz48Vi/fj0uvPBC3HTTTbrXGDt2LNatW4dly5bh9ttvz2Z4/YruSAwA4IuveAgin/CJsStM15sVjDEpiN43BSSnMRCv1wsAGDhwIADVuohEIpg6dao45vTTT0ddXR3WrVuX9HX4axCpERQCEinySIj+QCiqXm+RGENMYUUeTf6JxhQs33QITd7ulJ/TFY6Jz6avxkBydlaKomDevHm46KKLMGHCBABAc3Mz3G43ampqdMcOGzYMzc3Npq/z4Ycf4oUXXsA///lPy/cKhUIIhULid5+P3DbCAummFSGRf4IRRfw/HFVQ6nYUcTT5552drbjzhS348tnD8fg3z03pOdz6sNkUlLr65ueTMwtkzpw52L59O5YsWZLxa2zfvh3XXHMN7rvvPlxxxRWWxy1cuBDV1dXiZ9SoURm/Z1+hO6wKSCdZIEQB4Bav8f99lcY2Na7b5g/1cKQGvxedjlif3I0QyJGA3H777Xj99dexevVqjBw5Uvy9trYW4XAYHR0duuNbWlpQW1ur+9uOHTtw+eWX43vf+x7uueeepO+3YMECeL1e8XPw4MFcnMYJDcVAiEIiWyChqJLkyL5Ba6eaIh9O41x5BpbL2XfvyawEhDGG22+/HcuXL8eqVatw0kkn6R6fNGkSXC4XVq5cKf7W0NCAAwcOYPLkyeJvn3zyCb74xS9i1qxZePDBB3t8X4/Hg6qqKt1Pf0fEQLrJAiHyj2x18HhIX6a1U7U8wjESEJmsYiBz5szBc889h1deeQWVlZUirlFdXY3S0lJUV1fj5ptvxvz58zFw4EBUVVXhhz/8ISZPnowLL7wQgOq2uuyyy3DllVdi/vz54jUcDgeGDBmS5en1DyIxBZGYGqwjFxZRCIJR2YXV9y2Qo764gKRhgfAYiMvRdwU2KwvkiSeegNfrxaWXXorhw4eLnxdeeEEc8+ijj+LLX/4yZs6ciYsvvhi1tbVYtmyZePyll17C0aNH8cwzz+he4/zzz89maH2KaEzB/a/twDs7Wkwf75ZWg+TCIgqB3oXVdydIDndhpeOu44s5skAsYKzn9L2SkhIsWrQIixYtMn38F7/4BX7xi19kM4w+z4b9x/HkB4348NM2TD1jWMLjwbB2A5MFQhQCvQsrPQtk5c4W7DsawC0Xj831sPKGcGFlEANxkoAQxeR4VxiAmlduRndE704IRWPwOPtm2iDROwjJApKmC2vBsm1o7Qzh8vFDMXZIRa6HlnP8oai49zILovddC42aKfYynv3oM/zqjZ06645bFVaugm5DGmUnubGIPBOUJtJ00ngZY2gPqAsivjDq7chNSjOLgfTd+5EEpBfBGMMDr+/AX9buw/72LvF3XhxodfF2h0lAiMKSqQvLH4qK6mx/6MRYmXP3FUAxECP9XkB6UxsGXzAqgpPy6oy3J7EUEMMKkFJ5iXyTaRqvV7o2A6ETY2KVBSQcU1KK/QJyDOTEEMpM6LcCEorGcPnv3sX4e9/sNYHno9KFKt9o/EK0Wv2QBXJiwxhDxwnizuHIWVjppPHKrXb8J8h1atxnJ9VaEOHCIguk7+FxOuDtjiAcU/CZ5C4qJnKbBNmK4P+PKgyKicWUYIH0EkEkUuPhtxrw+ftX4KN97cUeSsrkwgLxnyAWiLywA1KPg/j6QSFhvxUQABg9qByA1uem2MgXqk5AJEEwW/0YLRByYZ1Y7Ijv4fLu7qNFHknqyEH0dOICvcGFZbxfeqLVICCpnq+fx0CokLBvMiYuIJ+19w4BkS0Qr84C0W40s4vXmAVDLqwTC76i3XHkxOkqnWkzRXlx4y/CXiLPrP8MZ973JlbuNC/KNYMXEXJStUD6QyuTfi4gZQCAxrbe4cKyioHIFoiZu4BcWCc2QkBOoN0kQxlmYcnXZjFiIOv3tUNhwL8PHE/5Oa2+zFxY3EXXlwsJ+7eADD4xLBDZojC7eLvD+r/1Fgtkb6sff1rzab9o950N3C15tDOUsNrtrehamaQRRC+2C4vfY+ncI0YXVipB9GhMEcWHZIH0UbgLa38vCaJbWiDS/00FREzQLOH4YvLbtxrw0L924Z9bm4o9lF6N/J3ujO9t39uRmylmHkQv/MKiza9mu6V6jwQjMTFmhz2eDZmCYAakc6MYSB9l9GDVhdXmD/WKVF5+cQNa3ENRmM5XbOYu6I4/7napAtRbXFhH46u9T4/6izyS3o0sICdKHCRoaJ+TKsW2QNr9/B5J7b35os5ui8Ht5i3dexYEfg/a7VHY7b2n1izX9GsBqSpxweNSJ+3ekMprZoF0hqKQ65aSWSAed3o3R77hq7yDx1PfR7o/Ii8KUomDtPiCiCZxoxzu6Ma/tjWZpnzniky78fqKmMYbiSk43hVJGEcyuPvK7Q7BblPPOZWYj4h/9OE2JkA/FxAAqChTJ7f9RY6DKAozjYEYL3TTNN74zexxB02fUyy4n/nAseKLc29G/k53HPEmPXZXsw8XLlyJHy3dYnnMz5Zvw23P/hvrG/NXV5JpK5NiWiDHApqFn2oM5Gg8JuVxB2G3q+eZShBdVKGTgPRtKkrVya3YFoi3O4KotGLkImC80M38rzyvnQtIbwmiczP+EAlIUuQJaV9bAF1J0lu3H/aBMWDjfussogPxa7nFl5+APGNMJxrpJEkUs5BQV6ibopuXWyAeVwh2u3qeqQim2A/d2TsWc/mCBKRUtUCKXUx4VFzc8Z0F403njBe6mf+V38Al3ALpBTEQOQulPRDulVXHH37ahj+v+VTX24gxhgf/uQMvbDhQsHFoAsLAGNDQbB1I5z78Jm+35UqYT5RW7f+zxTiBpmeBaNdBoS0QfYwxRQGJp/B63EHhwkrFAiEXVj+Bu7CKncrbFl/plJVo4+gMRhJdWEljIKqA+EPRvPq/U8EoGAd7mRVytDOE7z69EQv/tQubDnaIv+9p9eOv7zXi1282FGws3IVVUaYKR7I4CBcHhamxjoTXiioiBtaVpywno8WRaR1IIBwr6HXaJsUYA+FY0jgSpzVDF5ZPNFIs/mIun5CAxF1YxS4m5BZIiadbpAt6uyMJAXHzLKy4gLjUi52x4lT5ysjV80DvE5Dfv7NbrNCbvZqrh7t9CmUxxRQmOkLXVB4DkDwTS15Fmy165C7OgTxdA8bC1VCKLqxgJJYw+eZrjGbILiwgte9YuLCkIHoqdSB+ioH0D8pL1QmjzR8qqpuFZ2C5XSGxavF2RxLSi00FJH4Du1wR2G3q/4sdSDe60XpTIH1vqx9LNhwUv8sTS3t8gg5HlYKsjuUJtbqyA0BqFghgLsry4+n2fEoVY9puqhYIj3/YoMAWn4wDBawFaQ/oOx4bFzlmCBeWK90gejwG4iALpE/jdkXhcqoXyf4ixkG4BeJxheCSBMR4kZtXoqs3ocMeE+JT7EC68f17kwXymzd36faBkVf18gSc7l7fmaATkAo1ML6rqdNynxq9BZL4mbb782+BJLiwUrRAuIA4nRE44ivzQi7a2gwV5anECjULJCgF0Xs+X4qB9CPKS1XhyCYTizGGOc/9G999emNGK9e2TvXGd7s1AfF1RxOD6EksELs9Ji7Y3maBFLsWRFEYDh7rwosbDuLtHS0AGGoHHQagFw15gi5EC5aQSIpgqCjrhMMeRXckZpnU0S6N1cyqaw9oj/e2GIhPCEhUXKeFFJCj/vQEJBpTxOepc2Glkcbbl9uYAICz2APoDZSVBNDROTBpLcj+tgCe/KAR37t4LEYOKEt4PBCOiZYd+9sDGDukIq0xyBaI06lOYum6sByOmCY+vcQCsdtiUJijqC6sD/a24bZn6nWfychhn6Gy3Ifm9s/pVqaymATTKJDLFD4Z2e0KbDagrDSAzkA1Dh3vwrih+mtIUZjODWMqIJIA5isLi7uwbDYFjNlTFlpugbicYSiKA0BhM7HkxQHQswurPRCOF/EyuF2hjOpAHOTC6vuUxS2QZC6sZ9Z/hv9b9xme/9g8vVOe6DPpZ9QmVby6HFIQXVzkqlVjvHhjChN/07uwkl+4n7UH0qogThf+/hXlqj//4LGulLcCzTUrdrTAF4zCZlNQUebDyGH7ceqYHaL1izwpyyv8dFp0ZIoQkPjqVozJn7hDobc7onNtHTD5TOVzyZsLK8qbBKrfcboxEJczUhQLhH+3bldq6e5a/CMEmw1CQEIpBNH7w37oAAkIAC11NpkFwi9+Y2tnjtyaemcGbbk1CySos0B8QW3VBiTWgcirP4c9KoJ2yVxYWw914JKH38Xd/9iW9jhThQtfZVknALXwzLizW6Hgq9xxdbtw0Tnv4sxxW+FyRkXrl2K6sHhGD5+cNFFL/Kz4ONUsPYaucCwhMNxegCA6j3nwazKqsJRSYoWAOLQYSK4tkBZfEN6uxGtftt7KS9XebD25eZvjGXkej+p+FTGQFBYWWiU6WSB9nrIS9YJKlsorF8WZ0RnKXEBiChNtFtxSEN0XjIgLkU92RgtETqm02xXx3GRB9E/iaaKZCF2qiBWYK4yS+A1YLDcWX4k7DAFNs9V+e4GD6JGoakFoFkg4YUwcLm4lnm6UuHn9kv4z1QfR8+vCckk1Dql8VnxR4cyTBdLsDeLy363BdX9el2CZdUjWG18w9pRowgWEF+imlcZLQfT+Q4lHvUDaAyFLNwufhNr95qvoziwskONd4fjFzeB2hfVZWPGJmE92xhtVy8CKwmbTLthk5jk/h2MWYpgLRBDRERE37MHjxREQ3jbcaWirzT9TfyiKYCQGxlgRLBD1PWwGC8Tor1f/pqV6l5aon6Uxu60tIMdA8puF5UxTQPLtwnptyxH4Q1E0tHTi4DF90ga/5p3OsOiq25MLq9mrvgYv0M0ojZcKCfs+vHCPMesbgWe0mN3YgN6FdcQbREdX6pOzVgMSht3OpCwsrRKdTyxWFgg3r51SBpcV/ByOd4WzikscPNZl6YLwSTdQqUed5A60FycTK2CxGnQ6oqJu5mhnCJ2hqG51WZAsLBED4cWgiW41jubDDwtRNlp18gInlSB6ZzCCB17fgS1SNX5P8M9FXbTwDrU9v5dZGm8uXVivbjki/l9/4JjuMV2SishU7MEC8WrFvQBSzsKKKYyaKfYnHNLK1OqmExaIhZViDFqnsz2pvLIEYCgkjLuwrAQkrGVgAZpboTNkvfLh7xeJMZ3rLR0+aw/g4odX4/vP1Js+Lt9AfLVcNBdWyNyFZbNBF0g31gkUNIieUgxEc3Pyz9TowpKtyq4Uvtu/rN2Hv73fiD+u2pPymIMiaUMRC5dUPiszCyRXhYSNbQFsO6x1Mq7/TN9sUv7sXCkmmvCuBEYLpCexPHS8C1GFwW6Pief2VUhAoE4kfAVobNPA4RN1MKKYiozRFE8nE+uo1PET0ESgyRsUHXq52Z3gwhKrQe6m6Xl1Ja9uj2foxtrb6gdjwMeNx0yL3mQLpIy7W4rkwuLi77Qnfib8c23rDCXEt/KZpcZJFJBkMRCtJkG4BSVR7gpHdddmV9wtZ0VMYXip/hCA9NyZQcnqdaQ4qQJa0NolWSC5Knh9PW59cG9C/Wcdusfb5E4PDi3GmIymuAtLxEDi91hPFsjeVjWmWl7qh82W6hmcmJCAxOEr+G4Lv7GcEml2cxvrLtKJgwgLxK0XEC4sNiiWKZMJAuLs+eaQ3XBWSQE9wVeToahiWmUux0Cs/PWFgq9yjRYIIE3YgZCJBVLALCyTNF7j5G9qgRzTMge161J9HmPJLYMP9rahyZv+FgD8NR32WFqZSfKiwplDFxZjTLivxo5ULamGZp/OwpALAlNx8wJASzzjkicspBpE5ztwlpeeGNsTZwMJSBw+AXeHk8dAAKDNxL3AYyA8oysdAdEsEPVmdjr0k7rTGdFWP4aLN2h0YTl6zsJqz4EFIu/rsLsl8UbRgohRlHrUSa7ZFyzIqt6IVQwEkGMO4YS4QzFdWOGYkuBelF2d3Kpr8YWE0PHFgOw2SVYLsjRufQDpBbOFBeKIpbVLn5bGG9YEJAeB/oaWTuxp9cNmi2HU8EaUegJQGLDloObSEp0eXCFRm5FskdUZjIjPxONJL4guWyB9HRKQOHx1apa5whjr0QLxx2MOA6rUXeD2tPgRSSHdD9CvLAF9eiSgTsJaAE8/AVsH0c1vDnlbTyBzC0RevZkJiJyy6XaF4bCrW/MeLnBLk2hMEZObuQWifuZHO0MJCRIFsUAMhYQOhyKql43XGV9Fq5NgWLhiuGV3LKC5Qrkrx6qdibcrgrc+aRa/p2OB8EWAPgaSehA911lYr8WtjyEDWuFyRlFTqcY/5DhIm5SA4ExhkcXjH05HRGTvaTGQniwQdcFEAtKP4DeCWQwkFFUgu/nNUnn5xVhZ4YXDEUE4pmDf0dSaMx6VWkarY1Fgs2njcDkilhevlQurMxg19X8bLY5MU3n1Foj+RglGYsJScjoisNmAkngmltkeFvlEDtKaWSC6IHoxLBBDIaE6Jh4H0Y+Hr6J5ZbQxOUEsRNwhYZF2RcwnyVe3HkE4qgj3jD++gVkq8M9FjYGktktfRNpgTM3CUq8ffw5iIK/HWwjVDlZ7m9VUqRlY9QcSBcRjCKJb9a3jGViyNZeKBcIYExZIRRkJSL9Bi4EkCogxaG62aucrKZcjisqy9Ar1+CTuik9mNpveCtG5sHrKwopPkmFp5S1jbCiXDxeWtrJjYtLmtTby3huFgO+LYrPFYLcnTha6IHp8AubiXeheWBzZrcbpCkfFYoGLnjGVl4/f7QxLabLm57B0o9rOftTwRvG3VK2BoLRoSTUzSbaIXTmMgURiishEG1TTBkDbV2XTZ8eFQMjiyi0QhVm70EQRoUdb8PBEm2QC0h4Ix+8NJtzZfRkSkDh8JWWWYWW8yM1y9H1S64LK8vQERBYfToKAWOSgy4WEAHfTqDeNmRsr0S2SvYDsOxrQtbIQwVJHVGSh8JVcNvt0728LYNm/D6XV7birh4pgue6Cf6+l8UkjVy6sNn/IctIx1oEA5qm83Pqw26NisWBM5W2XYiRaTC/xHBrbAth6yAubTcHIYQfEe/eU1sqRs7C4gPRkrYkakLhFmisXluyG4tZ3Rbna1bgzFMWeVn+8QFT7bGQL38qNZSwiBFJzYX0atz5KPV1wOPJvwRYbEpA4jiQurAQLxCwGIgWNuYCkWgviN6lTkAXE5Yj26MLiFop6c1p35DWKX6YWiByADMcUfCZlWIkaEOkceCpkcxYC8pOXtmL+i1vw/t62lJ+jfbbmYiC7sLiYagKS/QRwuKMbkxeutKyXMbNAzFqstEnxDS7KfAtcXv/Ax++WiuXMVtjcCiwrCagxAWd6k7mWhaVILqzkYisXEQLatR4IJ0817gkueg57FHYbbwvDUC3FQfyhqLhv3PHPr6dAurGNCZCagOzlGVj9wH0FkIAI+AVt7sLS31hmRV5a75sIKsvVG7qhObU0PvFcZ+Jqiv/fYeF/lVu5c3gs5R//PgQj+oZ82QTR9TfeHsmN1SlZINqYuAWSWUPFmMKw9XAHAPOgvRUB0cbEfHLkk/XxrrCwjkriK/tUN0pKxvbDXkRizHKbWmMarzom9TvRNXmUuhVwBlSqCRtbD3UgGNEaK7rd4aRJIcGE2qH0NiHjrj17Gmm8cgAd0K71mMKyEmo5WUOGu7E+amwXQqw2G9Wfs1Uqr6hCd8suLPNEFplPW/tPAB0gARFka4HIldf84mntDPXo4w1FtX2i5c6dLun/TimInpDGa5gMAGDsyN0AgCfe/RTLN+lFhI+dr16Pp9FyRYZPCBXxeI8cSOc3pUtngag3YqYurP3tATHRpLPxV09N7dQJmYEx7XvmrVdyEQNpiicNeC2y4lK2QAyZeoDqwvK4gojEGLYc7DB1YZm5ZIOGRYdTFPWl6sKS60DiLqyeYiCG7rTq+FSLgX9HmVgiVlvHDqxWrdRXNh/Bo++o9wOPdwE9Zys2++IuLI9JED1JdiW3QCr6QQ0IQAIiEFkrSWIg9viq3ZjuGVOYlGEShcupbZPb02RnlSUkr6hczojoOWQdA9FeZ8TQwzgpLiI/eWmrLp2RB9H5xH/MordXT/AJka/0dptaINo5eLIMosvxpM/SKEjssujEy1HbmYSl32MiLpILF1ZTXDC7IzHTOEgyAdHv1a5vd8PHXhNPG9+w/5gURA9pFohJEN0q9dvKAukOx3RFoCFdJXpmFojNBl0/rOOBMC56aBUWLEtviwEuTMZ9NwZWt2PMiL0AVBEBtHiXPA6rlj+aBSIJSApBdB4DIRdWP8ORJJ+diwMv3joWCOkCuXIqIp80xSZVSfYYkZ/Lu+ly+F4LQLwOxMLXbObCAoBT6nZh6MAmRGIMtz1TLy56owXSGYr26L/+5IgXa3YfFb/LKZkDqswEJNElx2/ENn8opb0jjOgEpIfPVMaqD5aMPCl7XGHYHanXNvSELJhm/nZjHYg6Hl4dn7hXu8etdwHyz//j/ce1OhF3WFzPZjEQy/Y3FgJy6zP1uPjh1eJz16xeJeXaCK2NiXRdS4H0jxrbccQbxD+3HjF9vhVWFojNBpw6ZgdOqdsp/iZ/z8la/oSj8la2kgsrfq4Kg+k13B2OiTR1cmH1M5L5jI2uDYWp+wtw+CpG9Qnr9xzoUUAsJjh9EF2LgURiTCdeXSYWCKDeQGed+m84HRG0doZEbjqfiMpL/bBBfc0Okw14ZL779EbMfupjMRnKZj/PuW9sC4jCSZ/JTa0GL9V6GmMqcSrsknqLHT7enbII+XuIgfCxyf93iMyiHLiwZAExcZeY14FwF5YUAwkkurAArXB1/b52RGLxvmlOLYhuFtOT6zgAzQKxqsnYdqgDjAG74jG9YFR7vrGQsLEtgG/970f40JDooAXR5cWWJiD8tX3BqKW7zwyzhA2OzQaMHbUH48duhcMexeCaVu29k7iwWjuDYEzdsle2TuXvyEwweQsTlzOke15fhgQkTjKfMRcV1T2VWORl1rqZC8hnSTapAqx99FZpvABMW47b7YnjdjpiIiOsocUXH7eWD+9ymVc8ywRCUTR51RvqULwZopySWerpgsMeRSTGxJbAog+WdA42m9aqJRM3lmyBRBWGIx2pvUayNiYc2bXhdocka89cpJq9Qfzve/tSqmHQWyDmq10AsEnfnxbYjwihlJsBylSW++B0RLRtjR2ReDW7tQViHURPnEyDkZjoXMALXuXnOwwWyBvbmvD+3jb8ff1nutcxs0BkF5ZswabTM81nkrBhpG74flx+4RsYNVwbk2j5Y/Idyl14Za+ALCBmbqxP+1kGFkACIkjmwhLN+OxR0w1/5AwsDndhNfZogZhvPKPLwpKC6IB+YrNyYXF4rGNXcycYY7p2GHIGkhXyCppPIHJKps2mucN4IN3XbX5T8zhIuoH0jq4wjnj5TR3fie9Yam4sq90IZRItkOQurP95dy9++c+d+MvafUnfW1GYTkDMVtZaHYhmVfLAPgAc69K7s4wrW5tNi0PJjydrZWIdRLeeTAHVemWM6etAbHrXKl+MHDF0HDDGQOT3lS0QQFuopEIyC0TG2BU3mQViloEF8O9I/V7MAuk8/tFfAugACYggWRBdWCAOTUDkVF5/MgukBwGx2njGZRFEB/SrH2MhoRFeFb+rqRPe7ohwc3hcYc2aSpLKK0+A3PVknAw0AdHcEEDiTS1qQdK0QHhr/BJPF6riKdL7U8zEEhaIiYXGkbNz1EIzLiDmFgjvHCD3kjI9riusm2jMJquIiQtLDuzzCdkqBgJobkQ+fiD59cyvGX6ePABtZoHIC4g2f0h1oca1zuFIjIHwjdQOGyxEYx0IoF3z7f6wsF4BJOwmmAyxdXKaGzcl61ptbOMuk6yle3/qgcXJSkAWLlyI888/H5WVlRg6dChmzJiBhoYG3THBYBBz5szBoEGDUFFRgZkzZ6KlpUV3zIEDB/ClL30JZWVlGDp0KH784x8jGs2+R046pJLG63DETPdr8JlsX1ket0BafKGkW4taubCMdSDyniV6F5aWUmlGRbk6+TY0dwqryekIw27X/LvJigmPeLWbmVsgxpRMbuXwuherwKZHFBOmFwPZ1ay+fmW5V2vfkWIgPVkrdzEuQxC9pz0u+Ge+q7kzqbvFKJTJg+j695JTeSMxRcSpjC4sQIuDyI8nKyQMSs0Q1WOts7B0FkhnWJeuq8/CUv/lFlObP6T7/Phn4TEJZG891KHrNZfOvjGpWiBGXEmC6MKF5TETEOtrY18bCUharFmzBnPmzMH69euxYsUKRCIRXHHFFQgEtJv7zjvvxGuvvYalS5dizZo1OHLkCK699lrxeCwWw5e+9CWEw2F8+OGHePrpp7F48WL8/Oc/z2ZoaZOskFC4QSQXlhwDMRMBlzMiVvjJUnmtfPRu4SvW+kmZNXNL1YXV7AsKHy0XDrNsHyPNhhUokGiBVFWoVsHWQx0ArC2QTNuZ8PhHZZkPpaXcskttkumpDgRIdGH1ZIHIk8fbO1pMjwH0q3fA3IVlFkSXx9TmDwmLR90XJvG7qq7sEK05hAsrqQWiX3SINF6TeIDRAtHcegx2W6IFIi9G+LUTUxgOxbsw8wWAOkb1/eSmh0CmMZD0BERLXTZxYfnMXVgAkrav16zEvr0LoUxWAvLmm29i9uzZOPPMMzFx4kQsXrwYBw4cQH292rbB6/Xib3/7Gx555BFcdtllmDRpEp566il8+OGHWL9+PQDg7bffxo4dO/DMM8/g85//PKZPn44HHngAixYtQjhcuEyGZN14u0KyBRK/saUbxcoNlYobS6TxGuMF7iDqhu/DuLpdwn9rtvoxqwORcTmjohMuz4zxiI2r1H+PBawtgiYzCyRBQDoAMBzxBtHqC2puBUNufrYurMpyn0ilTnV73J7qQID0YyDy31fssHZjNXv1E5BVyiigT+OVx9TmD+GjRtVFVVrSZbrDncOuoDou4nyFL2IgZllYUiU5kDwGYnRhhqQMLptNew3+92NSPI2ntLb4ggjHFNhsiq45IX9f7rLizQcPptHy3yxlPBVcSdr9mPXB4lh15GWMCfHsLxlYQI5jIF6vehEPHDgQAFBfX49IJIKpU6eKY04//XTU1dVh3bp1AIB169bhrLPOwrBhw8QxV155JXw+Hz755JNcDi8pSQsJdTGQxCwsv8WKW0vltZ7sOi1WyDYbMH7sdpw8ao/4m7GQSVFYQlGYGTwO8sGnqquDT06aC8t69dZTEF0de0zEQTYd7JAE1WiBpF+NHo0paGiRBUSzQFKpXE4pjdcdlv6vWSBRhZmmC8urzw37jwu/v5Ej6biwEiwQzTpcHm9Jw9uVmzF8yCHYbTHhztKuZxMXlqGDszNJDERngXaGEjK4jJXoHdK1xDPluEVR4unWCaBR1IcOVMX40PHUvlt1zPGMvwwtENMguujEayIgFgW9vmBUbD/tIgFJH0VRMG/ePFx00UWYMGECAKC5uRlutxs1NTW6Y4cNG4bm5mZxjCwe/HH+mBmhUAg+n0/3ky3Jupd2hxMtkHbTLCyDBcKLCdt6tkBS8eEaVz/yRGblwgK0IDevBTEKiFlvL06ziYCYpWTy5nWbDnRYxkBES3dfMOUJYn97AOGoAoc9irKSQLwWRxXOo509x1JSKSRUV+1M/N8hTeZBE1eF7MaJKQyrdrUmHANIfn+3dTuTnlxYDc2dWLtHtRxHDE3sbcbhqaqDB6gFn1pdUyoWiHUMRG5+GQhrKb38M5Ir0cNR/S6KPBOLW4uy+0p9X/37DR7QAkDtjZVqrZC882U6WO2bE4rGEraylbFK8ebWh8Me1V0/fZ2cCcicOXOwfft2LFmyJFcvacnChQtRXV0tfkaNGpX1a3KTvzuS2B00IGU6eUQWlkkQ3WFlgVgLiGzd9ITR3yy726xcWABQUa4XWE1A4mm8SSwQOR2zLb5Pt1lKZk2FKiDrPm0TAVGjC4u7BLrCsZQ7v+6Iu68qyn1xlwkTBZ2ptDRJpQ7Ebldw2kmf4ORRu+CRLBDA3I3FYyOD4v2W3v7EPA7C3X/cAjQtJOzBhbW6oRUxhaG64rhIzLA+D+26dYo0XpNKdIPbk1+3/lDiJmRGa/FwR1f8vfQWSCgaS7DE+LXDLRD+vYkxGr6TqgqvmLRTzcSyirf1hNm+OdsPe3H1H99HOKrA6Yik5cLirjuzJIe+TE4E5Pbbb8frr7+O1atXY+TIkeLvtbW1CIfD6Ojo0B3f0tKC2tpacYwxK4v/zo8xsmDBAni9XvFz8ODBrM+Br+BjCkvI8Zb96GZ9ivwWftiyFAK+VvETM4zms+y+MvONc/gExuEi2FMabyAU1fmIwzEFvu6oaUomt0C2xluL22xKglvN6YiJySpVN5YcQOeUGfbBSEaqAj1mxD6Mq9sdH7vmLjQXEPVvtUNUl9LaPUdNj+MWCLcAzfztIQsXliduHfL5fPjQ9K5xbUfCxAVRtyFzT+6MKy9KYgpDayffJVM95lB8YtcEREs4OG7oaMBjIDymwfcv0caofR4l7m64nFFxTCq1IMGIeSPSVDDum/OXtZ9ixqIPsLvFD7crhLNP22i6AZlVQ0XeU64/ua+ALAWEMYbbb78dy5cvx6pVq3DSSSfpHp80aRJcLhdWrlwp/tbQ0IADBw5g8uTJAIDJkydj27ZtaG3V3AArVqxAVVUVzjjjDNP39Xg8qKqq0v1ki7yCD4b1F4fWEjwm/OWdQa2HlHUQXXUZNXmDlgHZVLKEOAkWSA8BdE55qV9XR8LrHkQMpCtsuklTs25faPXYo/6gZoFIN21FWafY95w/x0zUuDuHF2v1xC4uIJIVVZpijU00pmhpzklcfGYky8Ti32VN5TGUuLvRFY6JQDeHMSbiR9wCNLdA4hOxRRovoIrx8MHp9YjikzNjiecQMsQxHPaYaGsju7Ha/CHEFAYbFFSU8gB3V8JzAdUCMW6P3KMLS1pw8c+IC0gqmVhmO1+mis2mLYB+9/Zu/OqNXYgqDMMGHcFF56zGkAFHTZ9nFQPRLBASkJSZM2cOnnnmGTz33HOorKxEc3Mzmpub0d2tXjjV1dW4+eabMX/+fKxevRr19fW48cYbMXnyZFx44YUAgCuuuAJnnHEGvv3tb2PLli146623cM8992DOnDnweDzZn2GK2O1MTLLGfaS7pTRedWLUNyY0q0QH+NadyVN5rbKwzMeorwMxa+Vu/jymy003pvHGFGbq/27q0Hz4PHOrtTNk6sKy2Xg2loqVT1qOgwRCUcx68mM89K9dlmPnFcqygMiB9GQEJP9/uhNMsn5YPC7icMRE2/BNhlTU410RIfTCAskgBgIAg2ta056Y5GvCWAsiLNe4qNpsgMMkkN4kYjgheOLZUzwdl49XXtQcF5Oo+rwjHWqs60AKLiz+GfFjUnFhdZrsfJkOfAH0Qnx731PqdmLiaRuTftZWG2iJDCyTNOu+TFYC8sQTT8Dr9eLSSy/F8OHDxc8LL7wgjnn00Ufx5S9/GTNnzsTFF1+M2tpaLFu2TDzucDjw+uuvw+FwYPLkyfjWt76F73znO7j//vuzGVpGmAXSFYWhS6q1UKuE9YF0q0CezdZzV14r8TFD5KBH9CnHyTKwOLILiI/fblfgiL+vWSBdVOR6groWLj4TFxYA1FRqk6hVVoxcC/L8xwewZvdR/PW9fabJC96uiLaKl11YpanFQLrEfuhKwgTdE3xyNU4UisK0vlP2GKri57zlYIfuOP7ZuV0h4TL0BSMJ7iTrLCzt+xiRpvsKiIuCRTsTs4WHWVqrnATAz4ELCLfotFYmirBAuNh3R2Jo8gZFsoPRhSULCL8+hQurI3ULJF33lXh/6X49aeRujB21p0chslnFQAL904XlzObJqWTSlJSUYNGiRVi0aJHlMaNHj8Ybb7yRzVBygsMRRTTm0mWuBKMx4ZbhVoLbFUYoXCq2GU0mAmUlAfj8AyzdLWa7EVph9L92GdIxk1FR7gPUxbK+eaArjO6Yy7QfFp9AStzdiCnqpdLqC4pMG5dBQKolAbEKavJakIPHuvBug+omiCkM2494cf6YgbpjeQV6iadLF5BPtU1MKhlYVjgsXFhy9o3dFkN13OracsgLxhhs8RlI/uz4ZxGJqTGGMrf6WUZjikg4sBmC6A5HDIMHtCAccWPIAOtixaTn4IghpjgTLWoTAXE6o0BI78JqNllAcLcUX7Twfb9jChNCUeLphtsVQjjiwcdx157TEUm4Xhw6C0T9rsvSsEB8GWZgcUpLAugMVGNUbSNOqbO2gmWsCgmPBfpnED0rAelrmLUz0TZ8YuJxfpG0xCeJZIFwPtk1mnTlZYxlFAMJpxkDAbQVnt0e0924bmcY3Sg37cjL6xhKPEFEouql8unRgBDUBAGpkATE4ny4BfLK5iO6z3nzgQ4TAenUjZ3DYyAdXRF4uyOoLnWZvlcqNSBWGNuUc2SLxO5QUFXug82mrr4PHe/GqIFlACT3j6dbjTHYFDBmh687KgREDsQaLRCbDZh0xkdpj1tGtUA8uk3L1GaIiVaPWUdeXpHtcQdF3IzXOnAXnxy74aLpdoZR4ulCOOLB+n1qXYpZEaTLGYbdFoPNprlYuQVypKMbMYXBYbc2CTJtY8I5Y+xW1NXux8DqtpRdYFZBdL4AM+sU0JehZooSfCUvu1PkSZpfZOWlWvfZcFRLAzS7kLkLa9/RxP44XeFE6yYZxtVPqjEQQLUOXM4QBlS1626WZB15xQpUioHwdih2ezRh0ivxhEQaprUFoj7OxaPUo34+mw0uIEDugaUXEKcjJvzsyayQVFJ4rdBiIPpz5L/bbArsNga7XUFlvMHjlkPaOWgWiNoSnE/Qci2I7AZJ18WW0jmYFBPqaoekBpyiM66ZBSK5sLTx6tN4AW33RZcrLCrOtSr6xO/J6Yhh0pnrcd6EdcKSUVuoxxBVGJq83egKR/HK5sOmrfO1RoqZCYjHHcagmtTFA9CuC+MOjFbdkvs6JCASZnuCmLUD5xParmafrp7BbKLiq+edTb4El5/2XJaSCBg7gWp9sHqeIN2uCC45fwUmnbFe93eXVPFspElYINoEsk9smmN+03I3lpVfWm5Q53SEcfpJ2wFYCUi8BsRggQCpBdKzcWFZWSBm+68IN5Z0DkeE+0f9l39ecjW6JiBM1849V/DrUeeSjegtKHGsCKJLAiI1FTQKCL9e5ZRnLjhuZxil8YVCY7yItsxj/j0NrG7Xxc5sNqA0/pl91t6FW/9ej7lLNuPhtxoSnptOCnyusJk0NAXQL9uYACQgOsx6IGk1INrfKsu0Drd8FWTckpZTUdYJmy0GXzCa0L9Jjp2ksgqycmGlEkRXx6gkvA/PGjlgMhE3SS4st9iSlpvq5gIxYuhBeNzdGDLAvDpbbpFdN3x/PIuJ4XBHN1o7tccUhYnuvkYLBJBrbFIo0kzx85ER14IhiG7sZAuozQwBYMtBr/ibbIEA5q0ztBqQ9MeXCtqCSJtg+aKDW1AcUxeWFMdxu80tEPX/6nnw60W2QDjGAHoy+LE/f2U73otX4b+86bBp+xAgcxdWJlgWEgbIhdXvMWv/EDDxo6sphwztgbBYYVldxHY7ExPgtsNe3WNWBYhWiBz0mMECyWIC4mNbsuEgfrp8mxDPrrBWMOgxcWFYne/QgS249PwVoqWGEbcrhFJPAC5nGHXD98Hp1PpobT7QIY47eLwLXWF1w6IykwrsVPqM+VNo5W6FsUkgx7gdLKDFfrYd9oreWc2S9QZogqtzYfEU3jxYH4D59WzV/l/bH4PXjzCtJ5Q7mBAclgWUfxbcIlBjIEYBSX0fe57Ky/fXcNij6OiOYHWDflFilQ2YT8zqQCIxRXxuZIH0Y8w68nZJbUw4DkdMTGD1n3GXjfUkxTdBShCQNH30Iuc+oreU0i2Skxk+5BDGjmwAwPDcRwfw1f/5EC2+oFhNOhwRuJzRhI2MMvU722zAhRPfw0XnrIYnXpTJJ2DZjcU78FaUdZpOsNq+IOm3yk8FEQMxWiAmol1e6ofDEUF3JIY9rX5dESFPGhBpsiYxkHzEPwApBiIF0a2sVmNHXm93RIiNxxOE0xHVBczl5xvFyOUKCzcUpywDCwRQ02tH1e4HACz/t76ZZDFcWGYWiBY/ZGSB9Ge0ILp2QZq5sACtcnbDfi1N0QpeYPfJYb0rJt0bwFhI2JVGFpYVNhtwyugGTDpjPdyuEHY2+XDfK58kuGBc0jargLULKxXcrrBOkHjcRBYQ7r4y9vHipNJnrCsnMRCjBZIYPLbZtDjI1kMdWPdpe3wRwhKSCuQ6C7EboS3z7y8ZfNETMHFhJVggYntZdZzc+nA5Q8L1KbuxHCYuLI47wYXFEgQlGQPjHYWHDGzCKXW7MDzeRHLVrhZ4pXYp2QbRM8FsszHeS87lDGdU0HgiQwIiYZrGK2ot9JMQj4PwSS+ZG4rv1bDtsFcXSPenOcEZs7D4LnW5MOEHDziK8878EDYoePOTZvwj3kKcTwR2G9OZ57l0G9TEYwhbD3kRi6eJigwskwA6oBUTtnZa7/iYTRqvcac9jpULiAvIW5+04IfPbwIAfG7oQZFd5DRzYeXZAuHnLWcVhiysVrk7LaCPf3FkN6ZZDARQN71yOiLqxlxxYSxxB9M6x5qq4/jiF97EOadvUDsclPtQUeZDOMbw+jatpUume4Fkg82wiAPkGpD+ZX0AJCA6zHzGfBVrDMTyzCA+oSSbpNRAugJvd0RU8gKyiyW1ydhq/+lctU+oLO/EqOH7AQDL4u4CuaW17AfPxgIxUlHmg8MehT8UFWnCZi1MZFLZ8TG7LCzzViYhQyt0Dg+kr9rVivZAGJXlXowfu003XqA4LiwzC8Q4fpdDLyAtBhccoP/+5RiIrqLdpSaE2Gza4iOd+If2XvrV/IghajW+7MYy20o635jFQEhACADmrUy6rCyQhNoE64vYblfESlqOg2QaA+EXL2/glsv2CSePatD5cXUrUGkyyeVNK/fR2nygA13hqHBNmaXwcnqqSPen0SrfiJULK2RhgVRJRZQuZxifP32DbpWvtQqRsrCECytPAmLSysQ6iK7vhdUkZWBxZBeW3gKRzlN37Zh34c2E4UMOA2DY+NlxEffKtpVJJhgXcYB0H/az+AdAAqLDzIVlFQMpKwmIFtdAz5MUnyC3SwKSfgxELyDchZXLBm5uVwTjpLYOHmkC8eTJAgG0OMjyTYfxj38fBmPxPlJu63PrKROrK6sgevI03oQiSncwXmDKcPap9QlB42K4sMx22ew2ieEAiUF03m5fXjR4XNr/rWIg8iqcfz/lGVggRko8QdG4cuWulvhYzbdOzicOEwE53k/bmADUykSH2Q0XMMnCAtRVc0VZJ3z+AQB69sOaZWLxgGXqabz6QsLjebBAAGBk7Wc41DIanYFqVEmWlrwCdTly+54Dqo5h/2Fg3b52rIu3v7CKf3B6qgUJZJXGa+7Csqr+t9mA8yd8iGjUifKyxPFoLixtLPx7NPbByhX8vGUXltX4RR1IXHR3x7cRlq0HSwtEGr+8Cj9p5F543CGMrP0suxOJM6DqGI55h2DHEbUotygWCLmwdJCASJgWEiZZxVbKAtLDRVwVD6RvP6w13TOrMUmGvPtbTJF3BszthWu3MZw/4QMEuiuEbx/Qr0BzbYEMGdCCCadsQtvxITjuHYxQpARDBjUlfU5P1ejpJinIWDVTNKsD4XjcoYR0Z44zSSV6/oLoiQsiq9RvPr5wVMHRzpBIDuGrfkBvgTqkKnZ9DES2QLowri6xgjxTuNt4Z7MPwYgi+nIVUkBEEN1EQPqjC4sERMI0iJ6k463sn+/JiqiIN9073hXB4Y5ujBxQJlZQjjSD6OGYGpAXTQ1dub+BXM6oyI7iyCZ6rgOXNpuatfS5oQfBGBCLOeB0Jk9v7UlAtN0I00+TTaeVSSq4zHphxazFKBeIGIiJgFjVgQDAm9uboDC151upxzyIbhUDyed+GJVl6iJsd4tfxB0AllUdVLoYi3kBSPug9D8BoRiIRNIgut3EApHcOz2tghx2RVRcb4/XgwgXVpppvGFp8x6nI5K3SmYj8uo61xaIjLpbXM+TAs/uOeLtNt34KV0LT0aLgZhbII40rQa+wPCHomL3R6v90HOFWTNFqzoQm01byLy+VbX8BtfoK791FkgKMZBcU1rSBYc9inBUwVaRPp9aG6BcYVYH0i62s+1/MRASEAlRSKirA7FexeoskBQmqaryDgBaID3jSvSoIgJ3hdzARhaQQqZOWuF2heFwqJaY2R7aWaXxOvRV/xyrNN6e4ILLmBZnyH8QPR4DSSELC9Cuw4/jxbGDDf3MrGIgDossrFxjs2mLNt7lt5BFhEDySvT+thshQAKiw6z5XFeSQKzHHRZxgVQmch4H+eRIXEDS7YUl+V+P5yEDqydKPOoKsMTdnVX1e66w2aRMLMN+KzGFiYVAVhaIZSFhepO+3a6IrD1eCxLOexpvYmeFZLtYciuaMfXxAfGKcO3xKMpK/HA5QzpLQxbAfC9oeOt8LiCFLCIEEgWEMUZBdEKFu6m6e2jnLnPmuM3w+geILKtk8It/RxN3YaUZRDdxYRXSAnE6Ypjy+XdhN+nqWyzKSgLoDNQktDSRFwE5bWWSoQUCAC5HFCHFCW93BKMgd+PNbyV6VyQmEjeCSdrfyOmwA6radYFyQBXsyZ9fA8bsps0UgfxPovJWCkBhA+iAljHHBaQrHBPfY3/bzhYgAdFhN3Fh9bTr35CBrRgy0Lx1uRE1LZWhxRdCmz8kYiAptzKRVj8i97zAZjNvIdJb0FJ59ePibhsblIxW+FZ1ICGLGEIqOJ1hhCIlmgVSIBcWY6oQlrodWjt6E5esPBkb4x/aMTEA+ufKYpLvTCS+COMJJIV2pYoWN7yYN34f2u2xXmGVFxpyYUnwCyASY6LRXSCLamYjTqfWxXfbIa/UBiX9VibchdUfUwdlRCaWxV4rDof5Pi09YV0HknnmFF/h81TevAfR7YmWdLI9ZGR3kDH+kYxCWiB8KwWOq4CdeAHtuogqDIrCdPGP3mKVFxISEAk5UN4dUWsthM87R6mCfAXFA5Xq+6ZZSBgrThC9N2LVziSbVu6Avg5EboCp1VGkP+k7DcWE4Zh5VXiusNkS25kkD6Kr4ytxd4s9ylOBj583UswnTmkrBaDwFogs9uGYInby7I8ZWAAJiA7Vv6lOFsFwLGs/uhm8sntDPAhot8dgt6eWhitPNHz3vnym054IlMddWIeOd+tqLHqKXfWEvKqWc/6zioEY2ploLqz8uT74+XOrR0vjTRQtbj0MGtCa1mqaj583Usw3lVK8sZB7gQD6e1DOhuyPAXSABESHmguvFV9pwXSWMzdDZTwTa8uhDgDp3QDyxdvsU1c8/bH/jozHHUJ5aSdiCsPKnS3i71oNSGaTs7xClwPpwoWVwR4eTkNDRc2Flb86Hj6xcVeLKCQ0+VxG1e7H2JG7MW5UetXjXIwK5U7V1V8VeAElt50JRWP9ugodIAFJQEvljYk+WM4M/ehm8GytSEydNNJZIcsi1uojC4QzbJC6R8S/tjeLv2VTAwIANhsDt0blWpBQNHMXlrGlO7dsbHm0QPgCg090Vr2wALVh4Smjd+k6MKdCRZnaZaGm8njPB+eAKp0FUmgB0fek688pvAAJSAJyMWG2k5AZbldI3xIkjRtA3WdBHV87xUAEwwarldNrdh8VwXNeJyB3k00HNX6QmMqbXRDd6MJSBSpfQXT1PdXrg1dLJ4uBZEp5aQBf/MJbOHPc5py9ZjJkC6SQnXg5umzIftzGBCABSUBuZ5KLLWONqNW0mftwE7YP7aems0xlmQ9lJX6EowpW72pFszeIl+rVDYhGZdEJ1m6SyptsBd8Tzvh31WEsJMxTEB1IdGElKyTMBlcBW4p43EEhjIW2QAB9Tzq+b0p/dSWTgBgQxYSRmLQXSG5XOVkJiGG1ShaIKsrD4p1739zejP99bx8iMYYBVe0YUHWsh2dbY1aNHsrCAuG9pNr86r9hHpDPowXCBYRbrFa9sE4kbDagbvg+VJV3iH1kConYWjqiiLZEVjtn9nWokNCA3IDO5VD1NdNArBVV5en10JJx2BVExP+jabfU6KsMG3QEjYdPwapdWgbRSSN3Z/WaWi2I+m9MYcJqyORz572kjnZyASmEBRKPgfjDUBRWkMyvQjCubjfG1WX3/WYK/+z2twfQ5g/DZlNEp+D+BgmIAXnVyW+2vFogafpwbQXsO3QiUVXhRYmnC92hMgBAZXkHBtcczeo1+WKCWyByB9bsLJD4ZF4AFxZ39RwLhHWuuEK2QO9r8O9r437V+qko68woqaIvQC4sA/KuhAfj1c25TtErL/WLxnqp7gXCkdNH+2vqoBmyGwsAxo7ck7VP3rgniBxMz8QFxK2BWLyCOd+V6Op7xgWkK5z1+AkV/n1tiBcDV1cU3o3WWyABMSCn8a5uUFewg6Rd2XKBzaZt15qJC4vjphReHSOGHALAUFHm04lJphj3BOFCYrNl1kzSbmdwOeNuLH+osC6sQFjEP2y2WL9su5Er+PfVEN/2t6qio4ijKS7kwjLA3VUH2rvE/uXp9AVKlcEDjsLrH5h28K2QrbNPNKoqvJjy+TXwuIM5mSCN/bB4A71sVu8edwiRqAdHOyUByaAoMVXkLCy+PTNZH9nBLVPe4aaaBITg8Ivj7R1qUVpVxXHLfa6z4eRRDRhVuz/t15YrYcmFlUgus2H4tRCK6F1Z2QSgPa4Q/FAD6YWMgTAGNMeLTynxIjtkl6PdHhM7jfZHyIVlgK/OeLfbIQNakh2eMTYbMhKmQm0fSmgTLY8dZFMDwnHHCxuPdobyvh+I+toMTod6nRzp6Fb/RgH0rJC/r8pyb8q97PoiJCAGjCm7Q/LgvsqGQm0fSlgH0bOZ8Hkmlt6FlV+LgC80DndwC4QEJBvk76s/u68AEpAE9HsbBHtdgEy+eCkGkl+Mm0qJzZiyjIEAQGuBXFiAJCDHVQuEBCQ75O+LBITQIdd8DE6zrXUh0LmwyALJK8ZtbUM5iIG4XaoV0OwNiiBs/gVEFa3DHV3x9yMByQb58+ttC8xCQwJiQF6d5Sv+kQ12cmEVDIchCysnLiw3n8y7xd/y7cLiluoR7sKiGEhW8O/f4YiktfFWX4QExAC/uWw2BYOyrGTOBxRELxwiCyvKtxLOnQuLZ0TJ75MvuKXaHG/8RxZIdnDBryr39joPRaGhNF4DlWU+OOxRDB3YXJRW0T1hpzTegmFspphNK3cOd2HFFNV/ZUNmRYnpvWe895bo40UCkg0lJaorsDcuMAsNCYiBEk8QX7zgzby7FTJF7D9tU8gVkWeMMZBgku1gU0Vte66AMdX4txWgJsNoqZKAZEdd7X5UV3ToNrbqr5ALywSHPf+rwkzhAuJ2hnvtGPsKXCi46yoXFojNpqXyAvmPfwCAy7BXBbmwssNmA2oqO/p1/QeHBOQEg084lMKbf/hE2x3OXRovoBUTqu9RAAvEabRAeqd1TZx4kICcYPBJjeIf+cdt2ABKtDLJ0nWos0CK4cIi1yeRI7ISkLVr1+Lqq6/GiBEjYLPZ8PLLL+seb2lpwezZszFixAiUlZVh2rRp2LNnj+6Y5uZmfPvb30ZtbS3Ky8tx7rnn4h//+Ec2w+rT8EmtNB7II/JHSdxSaPYFwRiT9hPPbtJ3uwvrwjIKCLmwiFyRlYAEAgFMnDgRixYtSniMMYYZM2Zg3759eOWVV7Bp0yaMHj0aU6dORSAQEMd95zvfQUNDA1599VVs27YN1157La677jps2rQpm6H1WYYNasLZp27EqaN3FnsofR5PXECCEQW+7qhWSJhl91yPq7AuLIcjJrZqBiiITuSOrLKwpk+fjunTp5s+tmfPHqxfvx7bt2/HmWeeCQB44oknUFtbi+effx7f/e53AQAffvghnnjiCXzhC18AANxzzz149NFHUV9fj3POOSeb4fVJ7HaG4UOOFHsY/QKHQ4HLGUYk6kazL6g1P8zWhVVgCwRQY2axkHq7k4AQuSJvMZBQSL1JSkpKtDez2+HxePD++++Lv02ZMgUvvPACjh07BkVRsGTJEgSDQVx66aX5GhpBpIxHcmPlIo0X0NyQQGEsEEAfSCcXFpEr8iYgp59+Ourq6rBgwQIcP34c4XAYv/71r3Ho0CE0NWm7xb344ouIRCIYNGgQPB4Pbr31Vixfvhzjxo2zfO1QKASfz6f7IYh8UOJWW460eIMiCyvbCVhngRRoMpdFi4LoRK7Im4C4XC4sW7YMu3fvxsCBA1FWVobVq1dj+vTpsNu1t7333nvR0dGBd955Bxs3bsT8+fNx3XXXYdu2bZavvXDhQlRXV4ufUaNG5es0iH6O3gLJTSW3LgZSIBeWHEgnFxaRK/JaiT5p0iRs3rwZXq8X4XAYQ4YMwQUXXIDzzjsPAPDpp5/i8ccf18VJJk6ciPfeew+LFi3Cn/70J9PXXbBgAebPny9+9/l8JCJEXijxqJN9kzeYkx0JAUMWVoFcWHLdELmwiFxRkFYm1dXVANTA+saNG/HAAw8AALq6eHtpvSHkcDigKNY3lsfjgcfjydNoCUKDWyAtOYyBOONZUTHFWUALRHJhkYAQOSIrAfH7/di7d6/4vbGxEZs3b8bAgQNRV1eHpUuXYsiQIairq8O2bdswd+5czJgxA1dccQUANU4ybtw43Hrrrfjtb3+LQYMG4eWXX8aKFSvw+uuvZ3dmBJEDeAyk2RvMSSsTjscdRFewoihBdBIQIldkJSAbN27EF7/4RfE7dyvNmjULixcvRlNTE+bPn4+WlhYMHz4c3/nOd3DvvfeK410uF9544w3cfffduPrqq+H3+zFu3Dg8/fTTuOqqq7IZGkHkBI9Hs0B477FctAJxu0PoClYUpJkioI+B2B3UyoTIDVkJyKWXXgrGrBuK3XHHHbjjjjuSvsYpp5xCledEr4VXo7cHwvA4VVdrTiyQuEupcHUg5MIicg/1wiKIJLicYVF5zgsJczEB89hKoSZzNwXRiTxAAkIQSbDZtMmek4sJePiQQ6ipasewwYXpKlDiDsLhiMDtCpEFQuQM2lCKIHrA4wmiO1Qufs9FDKSmsgMXnPVB1q+TKg5HDJPPXgubndE+MkTOIAEhiB4oyYMFUgzKywI9H0QQaUAuLILoAdmFZbfFaAVPEHFIQAiiB3gtCFC4ynGCOBEgASGIHtBZICeo+4og8gEJCEH0AO+HBVANBUHIkIAQRA+QBUIQ5pCAEEQPyFlYuUjhJYi+AgkIQfSA3a7A5Yy3HqHNmAhCQAJCECnA4yAUAyEIDRIQgkgBHgehGAhBaJCAEEQK8FoQR4G65xLEiQAJCEGkQIknLiCOaJFHQhC9B+qFRRAp8LmhB9EdLEPdiMZiD4Ugeg0kIASRAiWeICacsqXYwyCIXgW5sAiCIIiMIAEhCIIgMoIEhCAIgsgIEhCCIAgiI0hACIIgiIwgASEIgiAyggSEIAiCyAgSEIIgCCIjSEAIgiCIjCABIQiCIDKCBIQgCILICBIQgiAIIiNIQAiCIIiMIAEhCIIgMoIEhCAIgsgIEhCCIAgiI0hACIIgiIwgASEIgiAyggSEIAiCyAgSEIIgCCIjSEAIgiCIjCABIQiCIDKCBIQgCILICBIQgiAIIiNIQAiCIIiMIAEhCIIgMoIEhCAIgsiIrARk7dq1uPrqqzFixAjYbDa8/PLLusdbWlowe/ZsjBgxAmVlZZg2bRr27NmT8Drr1q3DZZddhvLyclRVVeHiiy9Gd3d3NkMjCIIg8kxWAhIIBDBx4kQsWrQo4THGGGbMmIF9+/bhlVdewaZNmzB69GhMnToVgUBAHLdu3TpMmzYNV1xxBT7++GNs2LABt99+O+x2Mo4IgiB6M85snjx9+nRMnz7d9LE9e/Zg/fr12L59O84880wAwBNPPIHa2lo8//zz+O53vwsAuPPOO3HHHXfg7rvvFs897bTTshkWQRAEUQDytswPhUIAgJKSEu3N7HZ4PB68//77AIDW1lZ89NFHGDp0KKZMmYJhw4bhkksuEY8TBEEQvZe8Ccjpp5+Ouro6LFiwAMePH0c4HMavf/1rHDp0CE1NTQCAffv2AQB+8Ytf4JZbbsGbb76Jc889F5dffrlprIQTCoXg8/l0PwRBEERhyZuAuFwuLFu2DLt378bAgQNRVlaG1atXY/r06SK+oSgKAODWW2/FjTfeiHPOOQePPvooTjvtNDz55JOWr71w4UJUV1eLn1GjRuXrNAiCIAgL8hqpnjRpEjZv3oyOjg40NTXhzTffRHt7O8aOHQsAGD58OADgjDPO0D1v/PjxOHDggOXrLliwAF6vV/wcPHgwfydBEARBmFKQVKfq6moMGTIEe/bswcaNG3HNNdcAAMaMGYMRI0agoaFBd/zu3bsxevRoy9fzeDyoqqrS/RAEQRCFJassLL/fj71794rfGxsbsXnzZgwcOBB1dXVYunQphgwZgrq6Omzbtg1z587FjBkzcMUVVwAAbDYbfvzjH+O+++7DxIkT8fnPfx5PP/00du3ahZdeeim7MyMIgiDySlYCsnHjRnzxi18Uv8+fPx8AMGvWLCxevBhNTU2YP38+WlpaMHz4cHznO9/Bvffeq3uNefPmIRgM4s4778SxY8cwceJErFixAieffHI2QyMIgiDyjI0xxoo9iGzx+Xyorq6G1+tN251119t3oTPUmaeREQTR36n0VOK3V/w27edlM68VCir3JgiCIDKCBIQgCILICBIQgiAIIiNIQAiCIIiMIAEhCIIgMoIEhCAIgsgIEhCCIAgiI0hACIIgiIwgASEIgiAyggSEIAiCyAgSEIIgCCIjSEAIgiCIjCABIQiCIDKCBIQgCILICBIQgiAIIiNIQAiCIIiMIAEhCIIgMoIEhCAIgsgIEhCCIAgiI0hACIIgiIwgASEIgiAywlnsARSbK06+AqFoqNjDIAiij+Jxeoo9hLxBAnLyFcUeAkEQxAkJubAIgiCIjCABIQiCIDKCBIQgCILICBIQgiAIIiNIQAiCIIiMIAEhCIIgMoIEhCAIgsgIEhCCIAgiI/pEISFjDADg8/mKPBKCIIjcwOczPr/1RvqEgHR2dgIARo0aVeSREARB5JbOzk5UV1cXexim2FhvlrcUURQFR44cQWVlJWw2W8rP8/l8GDVqFA4ePIiqqqo8jrB40Dn2Degc+wbpnCNjDJ2dnRgxYgTs9t4ZbegTFojdbsfIkSMzfn5VVVWfvWA5dI59AzrHvkGq59hbLQ9O75Q1giAIotdDAkIQBEFkRL8WEI/Hg/vuuw8eT9/t10/n2Degc+wb9LVz7BNBdIIgCKLw9GsLhCAIgsgcEhCCIAgiI0hACIIgiIwgASEIgiAyol8LyKJFizBmzBiUlJTgggsuwMcff1zsIWXEwoULcf7556OyshJDhw7FjBkz0NDQoDsmGAxizpw5GDRoECoqKjBz5ky0tLQUacTZ89BDD8Fms2HevHnib33hHA8fPoxvfetbGDRoEEpLS3HWWWdh48aN4nHGGH7+859j+PDhKC0txdSpU7Fnz54ijjg9YrEY7r33Xpx00kkoLS3FySefjAceeEDX7+lEO8e1a9fi6quvxogRI2Cz2fDyyy/rHk/lfI4dO4YbbrgBVVVVqKmpwc033wy/31/As8gQ1k9ZsmQJc7vd7Mknn2SffPIJu+WWW1hNTQ1raWkp9tDS5sorr2RPPfUU2759O9u8eTO76qqrWF1dHfP7/eKY73//+2zUqFFs5cqVbOPGjezCCy9kU6ZMKeKoM+fjjz9mY8aMYWeffTabO3eu+PuJfo7Hjh1jo0ePZrNnz2YfffQR27dvH3vrrbfY3r17xTEPPfQQq66uZi+//DLbsmUL+8pXvsJOOukk1t3dXcSRp86DDz7IBg0axF5//XXW2NjIli5dyioqKtgf/vAHccyJdo5vvPEG+9nPfsaWLVvGALDly5frHk/lfKZNm8YmTpzI1q9fz9577z02btw49o1vfKPAZ5I+/VZAvvCFL7A5c+aI32OxGBsxYgRbuHBhEUeVG1pbWxkAtmbNGsYYYx0dHczlcrGlS5eKY3bu3MkAsHXr1hVrmBnR2dnJTjnlFLZixQp2ySWXCAHpC+f4X//1X+z//b//Z/m4oiistraWPfzww+JvHR0dzOPxsOeff74QQ8yaL33pS+ymm27S/e3aa69lN9xwA2PsxD9Ho4Ckcj47duxgANiGDRvEMf/617+YzWZjhw8fLtjYM6FfurDC4TDq6+sxdepU8Te73Y6pU6di3bp1RRxZbvB6vQCAgQMHAgDq6+sRiUR053v66aejrq7uhDvfOXPm4Etf+pLuXIC+cY6vvvoqzjvvPHzta1/D0KFDcc455+Cvf/2reLyxsRHNzc26c6yursYFF1xwwpzjlClTsHLlSuzevRsAsGXLFrz//vuYPn06gL5xjjKpnM+6detQU1OD8847TxwzdepU2O12fPTRRwUfczr0iWaK6dLW1oZYLIZhw4bp/j5s2DDs2rWrSKPKDYqiYN68ebjoooswYcIEAEBzczPcbjdqamp0xw4bNgzNzc1FGGVmLFmyBP/+97+xYcOGhMf6wjnu27cPTzzxBObPn4+f/vSn2LBhA+644w643W7MmjVLnIfZdXuinOPdd98Nn8+H008/HQ6HA7FYDA8++CBuuOEGAOgT5yiTyvk0Nzdj6NChusedTicGDhzY68+5XwpIX2bOnDnYvn073n///WIPJaccPHgQc+fOxYoVK1BSUlLs4eQFRVFw3nnn4Ve/+hUA4JxzzsH27dvxpz/9CbNmzSry6HLDiy++iGeffRbPPfcczjzzTGzevBnz5s3DiBEj+sw59if6pQtr8ODBcDgcCRk6LS0tqK2tLdKosuf222/H66+/jtWrV+va29fW1iIcDqOjo0N3/Il0vvX19WhtbcW5554Lp9MJp9OJNWvW4LHHHoPT6cSwYcNO+HMcPnw4zjjjDN3fxo8fjwMHDgCAOI8T+br98Y9/jLvvvhtf//rXcdZZZ+Hb3/427rzzTixcuBBA3zhHmVTOp7a2Fq2trbrHo9Eojh071uvPuV8KiNvtxqRJk7By5UrxN0VRsHLlSkyePLmII8sMxhhuv/12LF++HKtWrcJJJ52ke3zSpElwuVy6821oaMCBAwdOmPO9/PLLsW3bNmzevFn8nHfeebjhhhvE/0/0c7zooosS0q93796N0aNHAwBOOukk1NbW6s7R5/Pho48+OmHOsaurK2FzJIfDAUVRAPSNc5RJ5XwmT56Mjo4O1NfXi2NWrVoFRVFwwQUXFHzMaVHsKH6xWLJkCfN4PGzx4sVsx44d7Hvf+x6rqalhzc3NxR5a2tx2222surqavfvuu6ypqUn8dHV1iWO+//3vs7q6OrZq1Sq2ceNGNnnyZDZ58uQijjp75Cwsxk78c/z444+Z0+lkDz74INuzZw979tlnWVlZGXvmmWfEMQ899BCrqalhr7zyCtu6dSu75pprenWKq5FZs2axz33ucyKNd9myZWzw4MHsJz/5iTjmRDvHzs5OtmnTJrZp0yYGgD3yyCNs06ZN7LPPPmOMpXY+06ZNY+eccw776KOP2Pvvv89OOeUUSuPt7fzxj39kdXV1zO12sy984Qts/fr1xR5SRgAw/XnqqafEMd3d3ewHP/gBGzBgACsrK2Nf/epXWVNTU/EGnQOMAtIXzvG1115jEyZMYB6Ph51++unsL3/5i+5xRVHYvffey4YNG8Y8Hg+7/PLLWUNDQ5FGmz4+n4/NnTuX1dXVsZKSEjZ27Fj2s5/9jIVCIXHMiXaOq1evNr3/Zs2axRhL7Xza29vZN77xDVZRUcGqqqrYjTfeyDo7O4twNulB7dwJgiCIjOiXMRCCIAgie0hACIIgiIwgASEIgiAyggSEIAiCyAgSEIIgCCIjSEAIgiCIjCABIQiCIDKCBIQgCILICBIQgiAIIiNIQAiCIIiMIAEhCIIgMuL/A2fmgRFYKy5vAAAAAElFTkSuQmCC)"
          },
          "metadata": {}
        }
      ],
      "source": [
        "import numpy as np\n",
        "import IPython.display as display\n",
        "from matplotlib import pyplot as plt\n",
        "import io\n",
        "import base64\n",
        "\n",
        "ys = 200 + np.random.randn(100)\n",
        "x = [x for x in range(len(ys))]\n",
        "\n",
        "fig = plt.figure(figsize=(4, 3), facecolor='w')\n",
        "plt.plot(x, ys, '-')\n",
        "plt.fill_between(x, ys, 195, where=(ys > 195), facecolor='g', alpha=0.6)\n",
        "plt.title(\"Sample Visualization\", fontsize=10)\n",
        "\n",
        "data = io.BytesIO()\n",
        "plt.savefig(data)\n",
        "image = F\"data:image/png;base64,{base64.b64encode(data.getvalue()).decode()}\"\n",
        "alt = \"Sample Visualization\"\n",
        "display.display(display.Markdown(F\"\"\"![{alt}]({image})\"\"\"))\n",
        "plt.close(fig)"
      ]
    },
    {
      "cell_type": "code",
      "source": [
        "import spacy\n",
        "nlp = spacy.load('en_core_web_sm')"
      ],
      "metadata": {
        "id": "qBv3zDZ9CbNg"
      },
      "execution_count": 2,
      "outputs": []
    },
    {
      "cell_type": "code",
      "source": [
        "def show_ents(doc):\n",
        "  if doc.ents:\n",
        "    for ent in doc.ents:\n",
        "      print(ent.text+' - '+ent.label_+' - '+str(spacy.explain(ent.label_)))"
      ],
      "metadata": {
        "id": "1TpksVVBGnhv"
      },
      "execution_count": 3,
      "outputs": []
    },
    {
      "cell_type": "code",
      "source": [
        "doc = nlp(u\"May i go to washingto\")\n",
        "\n",
        "show_ents(doc)"
      ],
      "metadata": {
        "id": "7RZt5eeCHDhS"
      },
      "execution_count": 4,
      "outputs": []
    },
    {
      "cell_type": "code",
      "source": [
        "doc = nlp(u\"Can i plese borow 500 dollars from you to buy some Microsoft stock?\")\n",
        "\n",
        "for ent in doc.ents:\n",
        "  print(ent.text, ent.start, ent.end, ent.start_char, ent.end_char, ent.label_)"
      ],
      "metadata": {
        "id": "srIrGGKJIx41",
        "outputId": "5e6d2529-d06d-4e22-ef14-a1fde2e60e4b",
        "colab": {
          "base_uri": "https://localhost:8080/"
        }
      },
      "execution_count": 5,
      "outputs": [
        {
          "output_type": "stream",
          "name": "stdout",
          "text": [
            "borow 500 dollars 3 6 12 29 MONEY\n",
            "Microsoft 11 12 51 60 ORG\n"
          ]
        }
      ]
    },
    {
      "cell_type": "code",
      "source": [
        "doc = nlp(u\"Can i plese borow 500 dollars from you to buy some Microsoft stock\")\n",
        "\n",
        "for token in doc:\n",
        "  print(token.text)"
      ],
      "metadata": {
        "id": "QX0yzSB-Hbq1",
        "outputId": "fea9adf0-66c5-48ed-cfeb-194f8b401c62",
        "colab": {
          "base_uri": "https://localhost:8080/"
        }
      },
      "execution_count": 6,
      "outputs": [
        {
          "output_type": "stream",
          "name": "stdout",
          "text": [
            "Can\n",
            "i\n",
            "plese\n",
            "borow\n",
            "500\n",
            "dollars\n",
            "from\n",
            "you\n",
            "to\n",
            "buy\n",
            "some\n",
            "Microsoft\n",
            "stock\n"
          ]
        }
      ]
    },
    {
      "cell_type": "code",
      "source": [
        "doc = nlp(u\" Tesla open the US factory in $6million\")\n",
        "\n",
        "show_ents(doc)"
      ],
      "metadata": {
        "id": "3xVe4fq1F_pj",
        "outputId": "5f979be5-dc35-4057-d90e-e979153f905e",
        "colab": {
          "base_uri": "https://localhost:8080/"
        }
      },
      "execution_count": 7,
      "outputs": [
        {
          "output_type": "stream",
          "name": "stdout",
          "text": [
            "US - GPE - Countries, cities, states\n",
            "6million - MONEY - Monetary values, including unit\n"
          ]
        }
      ]
    },
    {
      "cell_type": "code",
      "source": [
        "from spacy.tokens import Span\n",
        "\n",
        "ORG = doc.vocab.strings[u'ORG']\n",
        "\n",
        "new_ent = Span(doc, 0, 1,label=ORG)\n",
        "\n",
        "doc.ents = list(doc.ents) + [new_ent]"
      ],
      "metadata": {
        "id": "ojTg2H7EC1Bc"
      },
      "execution_count": 8,
      "outputs": []
    },
    {
      "cell_type": "code",
      "source": [
        "show_ents(doc)"
      ],
      "metadata": {
        "id": "Q3hn8RlUOjBw",
        "outputId": "49fe1d80-b0dd-4bd6-a47d-c1b70340fea8",
        "colab": {
          "base_uri": "https://localhost:8080/"
        }
      },
      "execution_count": 9,
      "outputs": [
        {
          "output_type": "stream",
          "name": "stdout",
          "text": [
            "  - ORG - Companies, agencies, institutions, etc.\n",
            "US - GPE - Countries, cities, states\n",
            "6million - MONEY - Monetary values, including unit\n"
          ]
        }
      ]
    },
    {
      "cell_type": "code",
      "source": [
        "doc = nlp(u\"Our company plans to introduce a new vacuum cleaner.\"u\"If succesful, the vacuum cleaner will be our first product.\")\n",
        "\n",
        "show_ents(doc)"
      ],
      "metadata": {
        "id": "GGRrq_PyF8ag",
        "outputId": "f4c68a69-94e2-4f8b-fdc6-224bfe4f1a39",
        "colab": {
          "base_uri": "https://localhost:8080/"
        }
      },
      "execution_count": 10,
      "outputs": [
        {
          "output_type": "stream",
          "name": "stdout",
          "text": [
            "first - ORDINAL - \"first\", \"second\", etc.\n"
          ]
        }
      ]
    },
    {
      "cell_type": "code",
      "source": [
        "from spacy.matcher import PhraseMatcher\n",
        "matcher = PhraseMatcher(nlp.vocab)"
      ],
      "metadata": {
        "id": "8DC_LQVUKYcE"
      },
      "execution_count": 11,
      "outputs": []
    },
    {
      "cell_type": "code",
      "source": [
        "phrase_list = ['vacuum cleaner', 'vacuum-cleaner']\n",
        "phrase_patterns = [nlp(text) for text in phrase_list]"
      ],
      "metadata": {
        "id": "XU1lpVNcLbBh"
      },
      "execution_count": 12,
      "outputs": []
    },
    {
      "cell_type": "code",
      "source": [
        "matcher.add('newproduct', None, *phrase_patterns)\n",
        "\n",
        "matches = matcher(doc)\n",
        "\n",
        "matches"
      ],
      "metadata": {
        "id": "7_vJcedqLuVf",
        "outputId": "98949733-9626-4a9a-b418-6e8224eb01a2",
        "colab": {
          "base_uri": "https://localhost:8080/"
        }
      },
      "execution_count": 13,
      "outputs": [
        {
          "output_type": "execute_result",
          "data": {
            "text/plain": [
              "[(2689272359382549672, 7, 9), (2689272359382549672, 14, 16)]"
            ]
          },
          "metadata": {},
          "execution_count": 13
        }
      ]
    },
    {
      "cell_type": "code",
      "source": [
        "from spacy.tokens import Span\n",
        "\n",
        "PROD = doc.vocab.strings[u'PRODUCT']\n",
        "\n",
        "new_ents = [Span(doc, match[1], match[2],label=PROD) for match in matches]\n",
        "\n",
        "doc.ents = list(doc.ents) + new_ents"
      ],
      "metadata": {
        "id": "qVvTmWsVL9wD"
      },
      "execution_count": 14,
      "outputs": []
    },
    {
      "cell_type": "code",
      "source": [
        "show_ents(doc)"
      ],
      "metadata": {
        "id": "FqwevlZZOTfz",
        "outputId": "45fc2c0a-2a70-4f16-a4cf-02533c4683e0",
        "colab": {
          "base_uri": "https://localhost:8080/"
        }
      },
      "execution_count": 15,
      "outputs": [
        {
          "output_type": "stream",
          "name": "stdout",
          "text": [
            "vacuum cleaner - PRODUCT - Objects, vehicles, foods, etc. (not services)\n",
            "vacuum cleaner - PRODUCT - Objects, vehicles, foods, etc. (not services)\n",
            "first - ORDINAL - \"first\", \"second\", etc.\n"
          ]
        }
      ]
    },
    {
      "cell_type": "code",
      "source": [
        "doc = nlp(u'Originally priced at $29.50, the sweater was mark down to five dollars')\n",
        "\n",
        "show_ents(doc)"
      ],
      "metadata": {
        "id": "w9f19T-bOqQN",
        "outputId": "08006682-1e27-4cf5-c566-cba60ba61609",
        "colab": {
          "base_uri": "https://localhost:8080/"
        }
      },
      "execution_count": 16,
      "outputs": [
        {
          "output_type": "stream",
          "name": "stdout",
          "text": [
            "29.50 - MONEY - Monetary values, including unit\n",
            "five dollars - MONEY - Monetary values, including unit\n"
          ]
        }
      ]
    },
    {
      "cell_type": "code",
      "source": [
        "len([ ent for ent in doc.ents if ent.label_ =='MONEY'])"
      ],
      "metadata": {
        "id": "jRgziDl9PIiJ",
        "outputId": "33a5ba12-00a5-41ad-efe5-4fff4ae776c2",
        "colab": {
          "base_uri": "https://localhost:8080/"
        }
      },
      "execution_count": 17,
      "outputs": [
        {
          "output_type": "execute_result",
          "data": {
            "text/plain": [
              "2"
            ]
          },
          "metadata": {},
          "execution_count": 17
        }
      ]
    },
    {
      "cell_type": "code",
      "source": [
        "for sent in doc.sents:\n",
        "  docx =nlp(sent.text)\n",
        "  if docx.ents:\n",
        "    displacy.render(docx, style='ent', jupyter =True)\n",
        "  else:\n",
        "      print(docx.text)\n"
      ],
      "metadata": {
        "id": "mYdN8meNPDHS",
        "outputId": "9b37de37-bcfb-44ef-fa54-bb837b1d1d07",
        "colab": {
          "base_uri": "https://localhost:8080/",
          "height": 52
        }
      },
      "execution_count": 23,
      "outputs": [
        {
          "output_type": "display_data",
          "data": {
            "text/plain": [
              "<IPython.core.display.HTML object>"
            ],
            "text/html": [
              "<span class=\"tex2jax_ignore\"><div class=\"entities\" style=\"line-height: 2.5; direction: ltr\">Originally priced at $\n",
              "<mark class=\"entity\" style=\"background: #e4e7d2; padding: 0.45em 0.6em; margin: 0 0.25em; line-height: 1; border-radius: 0.35em;\">\n",
              "    29.50\n",
              "    <span style=\"font-size: 0.8em; font-weight: bold; line-height: 1; border-radius: 0.35em; vertical-align: middle; margin-left: 0.5rem\">MONEY</span>\n",
              "</mark>\n",
              ", the sweater was mark down to \n",
              "<mark class=\"entity\" style=\"background: #e4e7d2; padding: 0.45em 0.6em; margin: 0 0.25em; line-height: 1; border-radius: 0.35em;\">\n",
              "    five dollars\n",
              "    <span style=\"font-size: 0.8em; font-weight: bold; line-height: 1; border-radius: 0.35em; vertical-align: middle; margin-left: 0.5rem\">MONEY</span>\n",
              "</mark>\n",
              "</div></span>"
            ]
          },
          "metadata": {}
        }
      ]
    },
    {
      "cell_type": "code",
      "source": [
        "options = {'ents': [ 'ORG','PRODUCT']}\n",
        "displacy.render(doc, style='ent', jupyter=True, options=options)"
      ],
      "metadata": {
        "id": "S-WrqdtDlIF9",
        "outputId": "148d6322-4246-403e-e8de-0f86a6d57c06",
        "colab": {
          "base_uri": "https://localhost:8080/",
          "height": 52
        }
      },
      "execution_count": 22,
      "outputs": [
        {
          "output_type": "display_data",
          "data": {
            "text/plain": [
              "<IPython.core.display.HTML object>"
            ],
            "text/html": [
              "<span class=\"tex2jax_ignore\"><div class=\"entities\" style=\"line-height: 2.5; direction: ltr\">Originally priced at $29.50, the sweater was mark down to five dollars</div></span>"
            ]
          },
          "metadata": {}
        }
      ]
    },
    {
      "cell_type": "code",
      "source": [
        "import spacy\n",
        "from spacy import displacy"
      ],
      "metadata": {
        "id": "JvN5Ns1Zl74r"
      },
      "execution_count": 19,
      "outputs": []
    },
    {
      "cell_type": "markdown",
      "source": [],
      "metadata": {
        "id": "rlkzT2qcoKVm"
      }
    },
    {
      "cell_type": "code",
      "source": [
        "colors= {'ORG': 'linear-gradient(90deg,#aa9cfc,#fc9ce7)','MONEY':'radial-gradient(yellow,green)'}\n",
        "options ={'ents': ['ORG','MONEY'],'colors':colors}\n",
        "displacy.render(doc, style='ent',jupyter=True,options=options)"
      ],
      "metadata": {
        "id": "QSRO47mymrfB",
        "outputId": "125ba583-d6c2-4644-8688-47271743680f",
        "colab": {
          "base_uri": "https://localhost:8080/",
          "height": 52
        }
      },
      "execution_count": 24,
      "outputs": [
        {
          "output_type": "display_data",
          "data": {
            "text/plain": [
              "<IPython.core.display.HTML object>"
            ],
            "text/html": [
              "<span class=\"tex2jax_ignore\"><div class=\"entities\" style=\"line-height: 2.5; direction: ltr\">Originally priced at $\n",
              "<mark class=\"entity\" style=\"background: radial-gradient(yellow,green); padding: 0.45em 0.6em; margin: 0 0.25em; line-height: 1; border-radius: 0.35em;\">\n",
              "    29.50\n",
              "    <span style=\"font-size: 0.8em; font-weight: bold; line-height: 1; border-radius: 0.35em; vertical-align: middle; margin-left: 0.5rem\">MONEY</span>\n",
              "</mark>\n",
              ", the sweater was mark down to \n",
              "<mark class=\"entity\" style=\"background: radial-gradient(yellow,green); padding: 0.45em 0.6em; margin: 0 0.25em; line-height: 1; border-radius: 0.35em;\">\n",
              "    five dollars\n",
              "    <span style=\"font-size: 0.8em; font-weight: bold; line-height: 1; border-radius: 0.35em; vertical-align: middle; margin-left: 0.5rem\">MONEY</span>\n",
              "</mark>\n",
              "</div></span>"
            ]
          },
          "metadata": {}
        }
      ]
    },
    {
      "cell_type": "code",
      "source": [
        "#sentence segmentation\n",
        "doc = nlp(u'This is the first sentennce. This is another sentence. This is the last sentence.')\n",
        "for sent in doc.sents:\n",
        "  print(sent)"
      ],
      "metadata": {
        "id": "hmGe1da1pTBQ",
        "outputId": "60053e01-8964-447c-c1fd-f6f86f563285",
        "colab": {
          "base_uri": "https://localhost:8080/"
        }
      },
      "execution_count": 25,
      "outputs": [
        {
          "output_type": "stream",
          "name": "stdout",
          "text": [
            "This is the first sentennce.\n",
            "This is another sentence.\n",
            "This is the last sentence.\n"
          ]
        }
      ]
    },
    {
      "cell_type": "code",
      "source": [
        "print(doc[1])"
      ],
      "metadata": {
        "id": "oo-yl5DirHf0",
        "outputId": "8fdbea80-6a18-4495-b5a5-9b02fdf8fe60",
        "colab": {
          "base_uri": "https://localhost:8080/"
        }
      },
      "execution_count": 26,
      "outputs": [
        {
          "output_type": "stream",
          "name": "stdout",
          "text": [
            "is\n"
          ]
        }
      ]
    },
    {
      "cell_type": "code",
      "source": [
        "doc_sents = [sent for sent in doc.sents]\n",
        "doc_sents"
      ],
      "metadata": {
        "id": "aZ5LDKskrL6V",
        "outputId": "373bbbaa-acef-405c-89d2-187fac205dca",
        "colab": {
          "base_uri": "https://localhost:8080/"
        }
      },
      "execution_count": 27,
      "outputs": [
        {
          "output_type": "execute_result",
          "data": {
            "text/plain": [
              "[This is the first sentennce.,\n",
              " This is another sentence.,\n",
              " This is the last sentence.]"
            ]
          },
          "metadata": {},
          "execution_count": 27
        }
      ]
    },
    {
      "cell_type": "code",
      "source": [
        "print(doc_sents[1].start,doc_sents[1].end)"
      ],
      "metadata": {
        "id": "DbG1HBUDsHB1",
        "outputId": "545a06ee-1c17-4229-9cf6-2de8d8632f7d",
        "colab": {
          "base_uri": "https://localhost:8080/"
        }
      },
      "execution_count": 28,
      "outputs": [
        {
          "output_type": "stream",
          "name": "stdout",
          "text": [
            "6 11\n"
          ]
        }
      ]
    },
    {
      "cell_type": "code",
      "source": [
        "type(doc_sents[1])"
      ],
      "metadata": {
        "id": "n2Q5ELnht1o5",
        "outputId": "8f4b1c8c-e126-4a67-edf7-c9072999f8a0",
        "colab": {
          "base_uri": "https://localhost:8080/"
        }
      },
      "execution_count": 29,
      "outputs": [
        {
          "output_type": "execute_result",
          "data": {
            "text/plain": [
              "spacy.tokens.span.Span"
            ]
          },
          "metadata": {},
          "execution_count": 29
        }
      ]
    },
    {
      "cell_type": "code",
      "source": [
        "doc2 = nlp(u'This is a sentence. This is a sentence. This is a sentence.')\n",
        "for token in doc2:\n",
        "  print(token.is_sent_start, ' '+token.text)"
      ],
      "metadata": {
        "id": "WuFEfVJmGs9x",
        "colab": {
          "base_uri": "https://localhost:8080/"
        },
        "outputId": "5b3ed026-4210-421d-df87-f75f87f192f6"
      },
      "execution_count": 30,
      "outputs": [
        {
          "output_type": "stream",
          "name": "stdout",
          "text": [
            "True  This\n",
            "False  is\n",
            "False  a\n",
            "False  sentence\n",
            "False  .\n",
            "True  This\n",
            "False  is\n",
            "False  a\n",
            "False  sentence\n",
            "False  .\n",
            "True  This\n",
            "False  is\n",
            "False  a\n",
            "False  sentence\n",
            "False  .\n"
          ]
        }
      ]
    },
    {
      "cell_type": "code",
      "source": [
        "doc3 = nlp(u'\"Management is doing the right things; leadership is doing the right things.\" -Peter Drucker')\n",
        "for sent in doc3.sents:\n",
        "  print(sent)"
      ],
      "metadata": {
        "colab": {
          "base_uri": "https://localhost:8080/"
        },
        "id": "eEq1oRpWJG-j",
        "outputId": "4f7cd73e-8c3e-4c7c-9f9c-61a074ae7246"
      },
      "execution_count": 31,
      "outputs": [
        {
          "output_type": "stream",
          "name": "stdout",
          "text": [
            "\"Management is doing the right things; leadership is doing the right things.\"\n",
            "-Peter Drucker\n"
          ]
        }
      ]
    },
    {
      "cell_type": "code",
      "source": [
        "from spacy.language import Language\n",
        "\n",
        "# Add A New Rule To The Pipeline\n",
        "@Language.component(\"set_custom_boundaries\")\n",
        "def set_custom_boundaries(doc):\n",
        "  for token in doc[:-1]:\n",
        "    if token.text == ';':\n",
        "      doc[token.i+1].is_sent_start = True\n",
        "  return doc\n",
        "\n",
        "nlp.add_pipe(\"set_custom_boundaries\", before='parser')\n",
        "\n",
        "nlp.pipe_names"
      ],
      "metadata": {
        "colab": {
          "base_uri": "https://localhost:8080/"
        },
        "id": "jT71mpXsKNLu",
        "outputId": "e2c3c42b-1f23-4941-abee-e4b5675cf444"
      },
      "execution_count": 34,
      "outputs": [
        {
          "output_type": "execute_result",
          "data": {
            "text/plain": [
              "['tok2vec',\n",
              " 'tagger',\n",
              " 'set_custom_boundaries',\n",
              " 'parser',\n",
              " 'attribute_ruler',\n",
              " 'lemmatizer',\n",
              " 'ner']"
            ]
          },
          "metadata": {},
          "execution_count": 34
        }
      ]
    },
    {
      "cell_type": "markdown",
      "source": [],
      "metadata": {
        "id": "h4So9oGKoEOw"
      }
    },
    {
      "cell_type": "code",
      "metadata": {
        "id": "98cee38f"
      },
      "source": [
        "doc4 = nlp(u'\"Management is doing the right things; leadership is doing the right things.\" -Peter Drucker')\n",
        "for sent in doc4.sents:\n",
        "  print(sent)"
      ],
      "execution_count": null,
      "outputs": []
    }
  ],
  "metadata": {
    "colab": {
      "provenance": []
    },
    "kernelspec": {
      "display_name": "Python 3",
      "name": "python3"
    }
  },
  "nbformat": 4,
  "nbformat_minor": 0
}