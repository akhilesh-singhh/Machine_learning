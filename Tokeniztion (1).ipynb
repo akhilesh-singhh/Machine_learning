{
  "cells": [
    {
      "cell_type": "code",
      "execution_count": 1,
      "id": "ecfde231-80f4-4ba1-9008-3a2f38521614",
      "metadata": {
        "id": "ecfde231-80f4-4ba1-9008-3a2f38521614"
      },
      "outputs": [],
      "source": [
        "#import spacy and load the language library\n",
        "import spacy\n",
        "nlp = spacy.load('en_core_web_sm')"
      ]
    },
    {
      "cell_type": "code",
      "execution_count": 2,
      "id": "1e55f732-33b6-43bb-9f0d-c31551561873",
      "metadata": {
        "colab": {
          "base_uri": "https://localhost:8080/"
        },
        "id": "1e55f732-33b6-43bb-9f0d-c31551561873",
        "outputId": "ec9e9c50-5f0b-439b-e64d-3998c53b3395"
      },
      "outputs": [
        {
          "output_type": "stream",
          "name": "stdout",
          "text": [
            "\"we're moving to L.A.!\"\n"
          ]
        }
      ],
      "source": [
        "#Created a string that include opening and close quotation marks\n",
        "mystring = '\"we\\'re moving to L.A.!\"'\n",
        "print(mystring)"
      ]
    },
    {
      "cell_type": "code",
      "execution_count": 3,
      "id": "2d868674-5eaa-4621-a022-b4f72c4493de",
      "metadata": {
        "colab": {
          "base_uri": "https://localhost:8080/"
        },
        "id": "2d868674-5eaa-4621-a022-b4f72c4493de",
        "outputId": "1abd9992-e0fb-43ea-b2a9-1e90e7ddcff4"
      },
      "outputs": [
        {
          "output_type": "stream",
          "name": "stdout",
          "text": [
            "\" | we | 're | moving | to | L.A. | ! | \" | "
          ]
        }
      ],
      "source": [
        "#created s doc object and explore tokens\n",
        "doc = nlp(mystring)\n",
        "for token in doc:\n",
        "    print(token.text, end=' | ')"
      ]
    },
    {
      "cell_type": "code",
      "execution_count": 4,
      "id": "e474675a-3f3f-4a57-b1c4-f82ef35adbcc",
      "metadata": {
        "colab": {
          "base_uri": "https://localhost:8080/"
        },
        "id": "e474675a-3f3f-4a57-b1c4-f82ef35adbcc",
        "outputId": "69459b6c-7c9f-45dc-a6a1-e2013650754e"
      },
      "outputs": [
        {
          "output_type": "stream",
          "name": "stdout",
          "text": [
            "We\n",
            "'re\n",
            "here\n",
            "to\n",
            "help\n",
            "send\n",
            "snail\n",
            "-\n",
            "mail\n",
            ",\n",
            "email\n",
            "support@oursite.com\n",
            "or\n",
            "visit\n",
            "us\n",
            "at\n",
            "https://wwww.oursite.com\n",
            "!\n"
          ]
        }
      ],
      "source": [
        "doc = nlp(u\"We're here to help send snail-mail, email support@oursite.com or visit us at https://wwww.oursite.com!\")\n",
        "\n",
        "for t in doc:\n",
        "    print(t)"
      ]
    },
    {
      "cell_type": "code",
      "execution_count": 5,
      "id": "cdcd1467-c879-4799-bf9c-db9540ea5c0c",
      "metadata": {
        "colab": {
          "base_uri": "https://localhost:8080/"
        },
        "id": "cdcd1467-c879-4799-bf9c-db9540ea5c0c",
        "outputId": "c7c6e1b0-6638-4d9e-eb78-9e93347f7631"
      },
      "outputs": [
        {
          "output_type": "stream",
          "name": "stdout",
          "text": [
            " \n",
            "A\n",
            "5\n",
            "km\n",
            "NYC\n",
            "cab\n",
            "ride\n",
            "costs\n",
            "$\n",
            "10.30\n"
          ]
        }
      ],
      "source": [
        "doc3 = nlp(u' A 5km NYC cab ride costs $10.30')\n",
        "for t in doc3:\n",
        "    print(t)"
      ]
    },
    {
      "cell_type": "markdown",
      "id": "087840a6-0205-482f-b22b-64251f388249",
      "metadata": {
        "id": "087840a6-0205-482f-b22b-64251f388249"
      },
      "source": [
        "Exceptions"
      ]
    },
    {
      "cell_type": "code",
      "execution_count": 6,
      "id": "3eae5fee-190e-4ea0-b932-69f15b44c5f4",
      "metadata": {
        "colab": {
          "base_uri": "https://localhost:8080/"
        },
        "id": "3eae5fee-190e-4ea0-b932-69f15b44c5f4",
        "outputId": "6edaa49d-09d2-4f1c-83df-b53cdbe0708c"
      },
      "outputs": [
        {
          "output_type": "stream",
          "name": "stdout",
          "text": [
            "Let\n",
            "'s\n",
            "visit\n",
            "St.\n",
            "Louis\n",
            "in\n",
            "the\n",
            "U.S\n",
            "next\n",
            "year\n",
            ".\n"
          ]
        }
      ],
      "source": [
        "doc4 = nlp(u\"Let's visit St.Louis in the U.S next year.\")\n",
        "for t in doc4:\n",
        "    print(t)"
      ]
    },
    {
      "cell_type": "code",
      "execution_count": 8,
      "id": "3ef929a9-17c0-43ab-96a8-0c0d704712ee",
      "metadata": {
        "id": "3ef929a9-17c0-43ab-96a8-0c0d704712ee"
      },
      "outputs": [],
      "source": [
        "#counting token"
      ]
    },
    {
      "cell_type": "code",
      "execution_count": 9,
      "id": "91c92711-44dd-4b25-9efd-1d7d3d1f421e",
      "metadata": {
        "colab": {
          "base_uri": "https://localhost:8080/"
        },
        "id": "91c92711-44dd-4b25-9efd-1d7d3d1f421e",
        "outputId": "0393fed7-7e72-4b49-9972-5873b6adeec3"
      },
      "outputs": [
        {
          "output_type": "execute_result",
          "data": {
            "text/plain": [
              "10"
            ]
          },
          "metadata": {},
          "execution_count": 9
        }
      ],
      "source": [
        "len(doc3)"
      ]
    },
    {
      "cell_type": "code",
      "execution_count": null,
      "id": "595b9255-35b5-43a9-a68c-8191455304af",
      "metadata": {
        "id": "595b9255-35b5-43a9-a68c-8191455304af"
      },
      "outputs": [],
      "source": [
        "#Counting vocab entries"
      ]
    },
    {
      "cell_type": "code",
      "execution_count": 10,
      "id": "2c70c73a-333d-445e-ac89-8b7ee53d6a98",
      "metadata": {
        "colab": {
          "base_uri": "https://localhost:8080/"
        },
        "id": "2c70c73a-333d-445e-ac89-8b7ee53d6a98",
        "outputId": "dc38c627-c5a2-4755-9f55-d4ed6e44caec"
      },
      "outputs": [
        {
          "output_type": "execute_result",
          "data": {
            "text/plain": [
              "794"
            ]
          },
          "metadata": {},
          "execution_count": 10
        }
      ],
      "source": [
        "len(doc.vocab)"
      ]
    },
    {
      "cell_type": "markdown",
      "id": "2316375c-00de-4eed-8585-a53828ccd374",
      "metadata": {
        "id": "2316375c-00de-4eed-8585-a53828ccd374"
      },
      "source": [
        "Token can be retrieved by index position and slice"
      ]
    },
    {
      "cell_type": "code",
      "execution_count": 11,
      "id": "e28a876c-83d3-44d9-8ba6-6d05bf9f810e",
      "metadata": {
        "colab": {
          "base_uri": "https://localhost:8080/"
        },
        "id": "e28a876c-83d3-44d9-8ba6-6d05bf9f810e",
        "outputId": "c1ba8c1c-d499-4318-9143-da0a273d13eb"
      },
      "outputs": [
        {
          "output_type": "execute_result",
          "data": {
            "text/plain": [
              "better"
            ]
          },
          "metadata": {},
          "execution_count": 11
        }
      ],
      "source": [
        "doc5 = nlp (u'It is better to give then to receive.')\n",
        "\n",
        "#Retrieve the third token:\n",
        "doc5[2]"
      ]
    },
    {
      "cell_type": "code",
      "execution_count": 12,
      "id": "db0ea1e8-d8f8-4c5f-9474-42a921b35059",
      "metadata": {
        "colab": {
          "base_uri": "https://localhost:8080/"
        },
        "id": "db0ea1e8-d8f8-4c5f-9474-42a921b35059",
        "outputId": "e179dd48-eba9-4662-bbb3-590c1e69aa75"
      },
      "outputs": [
        {
          "output_type": "execute_result",
          "data": {
            "text/plain": [
              "better to give"
            ]
          },
          "metadata": {},
          "execution_count": 12
        }
      ],
      "source": [
        "#Retrieve three tokens from the middle:\n",
        "doc5[2:5]"
      ]
    },
    {
      "cell_type": "markdown",
      "id": "7785aa2f-c8e9-4ad7-9c57-1ed5f058d91b",
      "metadata": {
        "id": "7785aa2f-c8e9-4ad7-9c57-1ed5f058d91b"
      },
      "source": [
        "Tokens cannot be assigned"
      ]
    },
    {
      "cell_type": "code",
      "execution_count": 13,
      "id": "091ca42f-6cd0-4d43-956d-1868cce50d6e",
      "metadata": {
        "id": "091ca42f-6cd0-4d43-956d-1868cce50d6e"
      },
      "outputs": [],
      "source": [
        "doc6 = nlp (u' My dinner was horrible.')\n",
        "doc7 = nlp (u' Your dinner was delicious.')"
      ]
    },
    {
      "cell_type": "code",
      "execution_count": 15,
      "id": "451581dc-c2fc-4579-b551-7f629bd3f5a6",
      "metadata": {
        "colab": {
          "base_uri": "https://localhost:8080/"
        },
        "id": "451581dc-c2fc-4579-b551-7f629bd3f5a6",
        "outputId": "e41e478e-a325-4371-8006-b60cb4e5620a"
      },
      "outputs": [
        {
          "output_type": "stream",
          "name": "stdout",
          "text": [
            "Apple | to | build | a | Hong | Kong | factory | for | $ | 6 | million | \n",
            "----\n",
            "Apple - ORG - Companies, agencies, institutions, etc.\n",
            "Hong Kong - GPE - Countries, cities, states\n",
            "$6 million - MONEY - Monetary values, including unit\n"
          ]
        }
      ],
      "source": [
        "doc8 = nlp(u'Apple to build a Hong Kong factory for $6 million')\n",
        "\n",
        "for token in doc8:\n",
        "           print(token.text, end=' | ')\n",
        "\n",
        "print('\\n----')\n",
        "\n",
        "for ent in doc8.ents:\n",
        "    print(ent.text+' - '+ent.label_+' - '+str(spacy.explain(ent.label_)))"
      ]
    }
  ],
  "metadata": {
    "kernelspec": {
      "display_name": "Python 3 (ipykernel)",
      "language": "python",
      "name": "python3"
    },
    "language_info": {
      "codemirror_mode": {
        "name": "ipython",
        "version": 3
      },
      "file_extension": ".py",
      "mimetype": "text/x-python",
      "name": "python",
      "nbconvert_exporter": "python",
      "pygments_lexer": "ipython3",
      "version": "3.12.9"
    },
    "colab": {
      "provenance": []
    }
  },
  "nbformat": 4,
  "nbformat_minor": 5
}