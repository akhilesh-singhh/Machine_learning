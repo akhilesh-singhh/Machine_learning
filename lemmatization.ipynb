{
  "nbformat": 4,
  "nbformat_minor": 0,
  "metadata": {
    "colab": {
      "provenance": []
    },
    "kernelspec": {
      "name": "python3",
      "display_name": "Python 3"
    },
    "language_info": {
      "name": "python"
    }
  },
  "cells": [
    {
      "cell_type": "code",
      "execution_count": null,
      "metadata": {
        "id": "TklTH0xkDmwO"
      },
      "outputs": [],
      "source": [
        "import spacy\n",
        "nlp = spacy.load('en_core_web_sm')"
      ]
    },
    {
      "cell_type": "code",
      "source": [
        "doc1 = nlp(u\"I am a runner running in a race because I love to run since I ran today\")"
      ],
      "metadata": {
        "id": "Yl5Yc_rrH-q-"
      },
      "execution_count": null,
      "outputs": []
    },
    {
      "cell_type": "code",
      "source": [
        "for token in doc1:\n",
        "  print(token.text, '\\t' , token.pos_, '\\t', token.lemma, '\\t', token.lemma_)"
      ],
      "metadata": {
        "colab": {
          "base_uri": "https://localhost:8080/"
        },
        "id": "sPhL7g-uIM3j",
        "outputId": "686f1672-67cd-4c22-e7f8-edc32c2eb12a"
      },
      "execution_count": null,
      "outputs": [
        {
          "output_type": "stream",
          "name": "stdout",
          "text": [
            "I \t PRON \t 4690420944186131903 \t I\n",
            "am \t AUX \t 10382539506755952630 \t be\n",
            "a \t DET \t 11901859001352538922 \t a\n",
            "runner \t NOUN \t 12640964157389618806 \t runner\n",
            "running \t VERB \t 12767647472892411841 \t run\n",
            "in \t ADP \t 3002984154512732771 \t in\n",
            "a \t DET \t 11901859001352538922 \t a\n",
            "race \t NOUN \t 8048469955494714898 \t race\n",
            "because \t SCONJ \t 16950148841647037698 \t because\n",
            "I \t PRON \t 4690420944186131903 \t I\n",
            "love \t VERB \t 3702023516439754181 \t love\n",
            "to \t PART \t 3791531372978436496 \t to\n",
            "run \t VERB \t 12767647472892411841 \t run\n",
            "since \t SCONJ \t 10066841407251338481 \t since\n",
            "I \t PRON \t 4690420944186131903 \t I\n",
            "ran \t VERB \t 12767647472892411841 \t run\n",
            "today \t NOUN \t 11042482332948150395 \t today\n"
          ]
        }
      ]
    },
    {
      "cell_type": "code",
      "source": [
        "def show_lemmas(text):\n",
        "  for token in text:\n",
        "    print(f'{token.text:{12}} {token.pos_:{6}} {token.lemma:<{22}} {token.lemma_}')"
      ],
      "metadata": {
        "id": "dDZ2Yqv0IyaD"
      },
      "execution_count": null,
      "outputs": []
    },
    {
      "cell_type": "code",
      "source": [
        "doc2 = nlp(u\"I saw eighteen mice today\")\n",
        "show_lemmas(doc2)"
      ],
      "metadata": {
        "colab": {
          "base_uri": "https://localhost:8080/"
        },
        "id": "7BoPr0o14_VN",
        "outputId": "8939a510-829c-49f7-b01b-c4fb7c5df538"
      },
      "execution_count": null,
      "outputs": [
        {
          "output_type": "stream",
          "name": "stdout",
          "text": [
            "I            PRON   4690420944186131903    I\n",
            "saw          VERB   11925638236994514241   see\n",
            "eighteen     NUM    9609336664675087640    eighteen\n",
            "mice         NOUN   1384165645700560590    mouse\n",
            "today        NOUN   11042482332948150395   today\n"
          ]
        }
      ]
    },
    {
      "cell_type": "code",
      "source": [
        "doc3 = nlp(u\"I am meeting him tomorrow at the meeting\")\n",
        "show_lemmas(doc3)"
      ],
      "metadata": {
        "colab": {
          "base_uri": "https://localhost:8080/"
        },
        "id": "osc9Nt7S5vo3",
        "outputId": "61f73de9-410d-4738-9344-5f4230a5d7e6"
      },
      "execution_count": null,
      "outputs": [
        {
          "output_type": "stream",
          "name": "stdout",
          "text": [
            "I            PRON   4690420944186131903    I\n",
            "am           AUX    10382539506755952630   be\n",
            "meeting      VERB   6880656908171229526    meet\n",
            "him          PRON   1655312771067108281    he\n",
            "tomorrow     NOUN   3573583789758258062    tomorrow\n",
            "at           ADP    11667289587015813222   at\n",
            "the          DET    7425985699627899538    the\n",
            "meeting      NOUN   14798207169164081740   meeting\n"
          ]
        }
      ]
    },
    {
      "cell_type": "code",
      "source": [
        "doc4 = nlp(u\"That's an enormous automobile\")\n",
        "show_lemmas(doc4)"
      ],
      "metadata": {
        "id": "FCYbLfOQ6jIy",
        "outputId": "d134cc3c-1aab-44c1-8307-e8a93daa4d3d",
        "colab": {
          "base_uri": "https://localhost:8080/"
        }
      },
      "execution_count": null,
      "outputs": [
        {
          "output_type": "stream",
          "name": "stdout",
          "text": [
            "That         PRON   4380130941430378203    that\n",
            "'s           AUX    10382539506755952630   be\n",
            "an           DET    15099054000809333061   an\n",
            "enormous     ADJ    17917224542039855524   enormous\n",
            "automobile   NOUN   7211811266693931283    automobile\n"
          ]
        }
      ]
    }
  ]
}