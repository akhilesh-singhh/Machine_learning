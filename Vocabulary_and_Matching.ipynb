{
  "nbformat": 4,
  "nbformat_minor": 0,
  "metadata": {
    "colab": {
      "provenance": []
    },
    "kernelspec": {
      "name": "python3",
      "display_name": "Python 3"
    },
    "language_info": {
      "name": "python"
    }
  },
  "cells": [
    {
      "cell_type": "code",
      "execution_count": 1,
      "metadata": {
        "id": "X_WaEH0O-n7v"
      },
      "outputs": [],
      "source": [
        "import spacy\n",
        "nlp = spacy.load(\"en_core_web_sm\")"
      ]
    },
    {
      "cell_type": "code",
      "source": [
        "from spacy.matcher import Matcher"
      ],
      "metadata": {
        "id": "qWZNaUXH_vav"
      },
      "execution_count": 2,
      "outputs": []
    },
    {
      "cell_type": "code",
      "source": [
        "matcher = Matcher(nlp.vocab)"
      ],
      "metadata": {
        "id": "leq-uW3z_1wa"
      },
      "execution_count": 3,
      "outputs": []
    },
    {
      "cell_type": "markdown",
      "source": [
        "Creating Patterns"
      ],
      "metadata": {
        "id": "s7IcV6zjAA_v"
      }
    },
    {
      "cell_type": "code",
      "source": [
        "p1 = [{'LOWER' : 'solarpower'}]\n",
        "p2 = [{'LOWER' : 'solar'}, {'LOWER' : 'power'}]\n",
        "p3 = [{'LOWER' : 'solar'}, {'IS_PUNCT' : True}, {'LOWER' : 'power'}]\n",
        "\n",
        "# The patterns p1, p2, and p3 should be in a list,\n",
        "# and the callback (None in this case) should be in a list as well.\n",
        "matcher.add('SolarPower', [p1, p2, p3])"
      ],
      "metadata": {
        "id": "heYkLURE_9pe"
      },
      "execution_count": 4,
      "outputs": []
    },
    {
      "cell_type": "code",
      "source": [
        "doc = nlp(u\"The Solar Power industry continues to grow as demand \\ for solarpower increases. Solar-power cars are gaining popularity.\")"
      ],
      "metadata": {
        "id": "vRWFrwOCrncA"
      },
      "execution_count": 5,
      "outputs": []
    },
    {
      "cell_type": "code",
      "source": [
        "found_matches = matcher(doc)\n",
        "print (found_matches)"
      ],
      "metadata": {
        "colab": {
          "base_uri": "https://localhost:8080/"
        },
        "id": "-b0DaO47eAHJ",
        "outputId": "a3fe2fa0-0c1c-4817-83e5-ca2e9feec628"
      },
      "execution_count": 6,
      "outputs": [
        {
          "output_type": "stream",
          "name": "stdout",
          "text": [
            "[(8656102463236116519, 1, 3), (8656102463236116519, 11, 12), (8656102463236116519, 14, 17)]\n"
          ]
        }
      ]
    },
    {
      "cell_type": "code",
      "source": [
        "for match_id, start, end in found_matches:\n",
        "    string_id = nlp.vocab.strings[match_id]  # get string representation\n",
        "    span = doc[start:end]                    # get the matched span.\n",
        "    print(match_id, string_id, start, end, span.text)"
      ],
      "metadata": {
        "colab": {
          "base_uri": "https://localhost:8080/"
        },
        "id": "_4RD1CxneYGb",
        "outputId": "b3a9f0f1-36b5-4338-98a3-fd6f39c1c0df"
      },
      "execution_count": 7,
      "outputs": [
        {
          "output_type": "stream",
          "name": "stdout",
          "text": [
            "8656102463236116519 SolarPower 1 3 Solar Power\n",
            "8656102463236116519 SolarPower 11 12 solarpower\n",
            "8656102463236116519 SolarPower 14 17 Solar-power\n"
          ]
        }
      ]
    },
    {
      "cell_type": "code",
      "source": [
        "pa1 = [{'LOWER' : 'solarpower'}]\n",
        "pa2 = [{'LOWER' : 'solar'}, {'IS_PUNCT' : True, 'OP' : '*'}, {'LOWER' : 'power'}]\n",
        "\n",
        "# add the new set of pattern to the solarpower matcher\n",
        "matcher.add('SolarPower', [pa1, pa2])"
      ],
      "metadata": {
        "id": "JQiQIpgrgwWr"
      },
      "execution_count": 8,
      "outputs": []
    },
    {
      "cell_type": "code",
      "source": [
        "found_matches = matcher(doc)\n",
        "print (found_matches)"
      ],
      "metadata": {
        "colab": {
          "base_uri": "https://localhost:8080/"
        },
        "id": "ZWHlVwcHin2Z",
        "outputId": "c7eb1c6e-2e43-46b8-c64b-2020d25b7d47"
      },
      "execution_count": 9,
      "outputs": [
        {
          "output_type": "stream",
          "name": "stdout",
          "text": [
            "[(8656102463236116519, 1, 3), (8656102463236116519, 11, 12), (8656102463236116519, 14, 17)]\n"
          ]
        }
      ]
    },
    {
      "cell_type": "markdown",
      "source": [
        "Be Carefull with lemmas!"
      ],
      "metadata": {
        "id": "5Fi0JRDciyQY"
      }
    },
    {
      "cell_type": "code",
      "source": [
        "p1 = [{'LOWER' : 'solarpower'}]\n",
        "p2 = [{'LOWER' : 'solar'}, {'IS_PUNCT' : True, 'OP' : '*'}, {'LEMMA' : 'power'}]\n",
        "\n",
        "#remove the old pattern to avoid duplication\n",
        "matcher.remove('SolarPower')\n",
        "\n",
        "matcher.add('SolarPower', [p1, p2])"
      ],
      "metadata": {
        "id": "P_6orbgVixI5"
      },
      "execution_count": 10,
      "outputs": []
    },
    {
      "cell_type": "code",
      "source": [
        "doc2 = nlp(u\"Solar-powered energy runs solar-powered cars.\")"
      ],
      "metadata": {
        "id": "8IRYz1BUjdZZ"
      },
      "execution_count": 11,
      "outputs": []
    },
    {
      "cell_type": "code",
      "source": [
        "foud_matches = matcher(doc2)\n",
        "print (foud_matches)"
      ],
      "metadata": {
        "colab": {
          "base_uri": "https://localhost:8080/"
        },
        "id": "u6TwE5OhkJpM",
        "outputId": "cbe0c64c-c063-4e0e-8306-d15475c5246c"
      },
      "execution_count": 12,
      "outputs": [
        {
          "output_type": "stream",
          "name": "stdout",
          "text": [
            "[(8656102463236116519, 0, 3), (8656102463236116519, 5, 8)]\n"
          ]
        }
      ]
    },
    {
      "cell_type": "markdown",
      "source": [
        "Phrase Matcher"
      ],
      "metadata": {
        "id": "ftTu7S_fl-3G"
      }
    },
    {
      "cell_type": "code",
      "source": [
        "from spacy.matcher import PhraseMatcher\n",
        "matcher = PhraseMatcher(nlp.vocab)"
      ],
      "metadata": {
        "id": "Ug4vW0zTkU0I"
      },
      "execution_count": 13,
      "outputs": []
    },
    {
      "cell_type": "code",
      "metadata": {
        "id": "39732b6a"
      },
      "source": [
        "with open(\"/content/reaganomics.txt\", \"w\") as f:\n",
        "    f.write(\"Reaganomics is a portmanteau of Reagan and economics, created by Paul Harvey. It refers to the economic policies promoted by U.S. President Ronald Reagan during the 1980s. These policies are commonly associated with supply-side economics, referred to as trickle-down economics or voodoo economics by political opponents, and free-market economics by political advocates.\")"
      ],
      "execution_count": 15,
      "outputs": []
    },
    {
      "cell_type": "code",
      "metadata": {
        "id": "bf16715f"
      },
      "source": [
        "doc3 = open(\"/content/reaganomics.txt\", 'r', encoding='latin-1') # Specify the correct encoding when opening the file\n",
        "f = nlp(doc3.read())"
      ],
      "execution_count": 16,
      "outputs": []
    },
    {
      "cell_type": "code",
      "source": [
        "#first create a list of match phrase\n",
        "phrase_list = ['voodoo economics','supply-side economics','trickle-down economics','free-market economics']\n",
        "#next convert each phrase to a doc object\n",
        "phrase_patterns = [nlp(text) for text in phrase_list]\n",
        "\n",
        "# The matcher requires the patterns to be added with a specific name.\n",
        "# The `None` argument is a placeholder for a callback function.\n",
        "matcher.add('VoodooEconomics', None, *phrase_patterns)\n",
        "\n",
        "matches = matcher(f)\n",
        "matches"
      ],
      "metadata": {
        "id": "o3goDkAfBFtc",
        "colab": {
          "base_uri": "https://localhost:8080/"
        },
        "outputId": "b5f547a0-cd18-48a7-edf1-fc39a8dbd047"
      },
      "execution_count": 17,
      "outputs": [
        {
          "output_type": "execute_result",
          "data": {
            "text/plain": [
              "[(3473369816841043438, 36, 40),\n",
              " (3473369816841043438, 44, 48),\n",
              " (3473369816841043438, 49, 51),\n",
              " (3473369816841043438, 56, 60)]"
            ]
          },
          "metadata": {},
          "execution_count": 17
        }
      ]
    },
    {
      "cell_type": "code",
      "source": [
        "matches"
      ],
      "metadata": {
        "id": "FUn6pReKBlVz",
        "colab": {
          "base_uri": "https://localhost:8080/"
        },
        "outputId": "db60931e-0c64-4699-c7da-0f0db8e340e3"
      },
      "execution_count": 18,
      "outputs": [
        {
          "output_type": "execute_result",
          "data": {
            "text/plain": [
              "[(3473369816841043438, 36, 40),\n",
              " (3473369816841043438, 44, 48),\n",
              " (3473369816841043438, 49, 51),\n",
              " (3473369816841043438, 56, 60)]"
            ]
          },
          "metadata": {},
          "execution_count": 18
        }
      ]
    }
  ]
}