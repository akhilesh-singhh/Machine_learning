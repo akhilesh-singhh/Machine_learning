{
  "nbformat": 4,
  "nbformat_minor": 0,
  "metadata": {
    "colab": {
      "provenance": []
    },
    "kernelspec": {
      "name": "python3",
      "display_name": "Python 3"
    },
    "language_info": {
      "name": "python"
    }
  },
  "cells": [
    {
      "cell_type": "code",
      "execution_count": null,
      "metadata": {
        "id": "NdZCJeUD69Q0"
      },
      "outputs": [],
      "source": [
        "import spacy\n",
        "nlp = spacy.load(\"en_core_web_sm\")"
      ]
    },
    {
      "cell_type": "markdown",
      "source": [
        "By default stop words in spacy"
      ],
      "metadata": {
        "id": "BVn_Zrin7gNg"
      }
    },
    {
      "cell_type": "code",
      "source": [
        "print(nlp.Defaults.stop_words)"
      ],
      "metadata": {
        "colab": {
          "base_uri": "https://localhost:8080/"
        },
        "id": "av6dxi3K7HCa",
        "outputId": "87f934fd-0c4c-4fe0-a0a7-cf083c1d0e16"
      },
      "execution_count": null,
      "outputs": [
        {
          "output_type": "stream",
          "name": "stdout",
          "text": [
            "{'nor', 'doing', \"'s\", 'toward', 'will', 'well', 'itself', 'its', 'n’t', 'often', 'upon', 'there', 'above', 'hereafter', 'nevertheless', 'once', 'would', 'somewhere', 'beyond', 'during', 'someone', 'whom', '’ll', 'please', 'how', 'the', 'with', '’s', '’ve', 'same', '‘s', 'has', 'everywhere', 'therein', 'beforehand', '‘re', 'not', 'and', 'beside', 'until', 'whoever', 'thereupon', 'thence', 'herself', 'any', 'own', 'ca', 'alone', 'down', 'am', 'each', 'else', 'wherever', 'six', 'however', 'themselves', 'too', 'thru', 'what', '’re', 'anyway', 'therefore', 'seemed', 'some', 'must', 'being', 'even', 'we', 'put', 'also', 'towards', 'for', 'no', 'few', 'take', 'three', 'twenty', 'those', 'further', '‘d', 'onto', 'across', 'i', 'hence', 'thereafter', 'indeed', 'ours', 'formerly', 'who', 'is', 'otherwise', 'wherein', 'seeming', 'their', '‘ve', \"n't\", 'two', 'n‘t', 'last', 'have', 'when', 'which', 'through', 'myself', 'up', 'least', 'always', 'from', 'per', 'still', 'various', 'top', 'though', 'anyone', 'may', 'whereas', 'where', 'only', 'everyone', 'get', 'along', 'she', 'hereby', 'whereafter', 'never', 'over', 'our', 'both', 'been', 'mine', 'why', 'another', 'sixty', 'show', 'front', 'hereupon', 'make', 'becomes', 'fifteen', \"'ve\", 'other', 'me', 'it', 'almost', 'him', 'seem', 'about', 'yourselves', 'regarding', 're', 'again', 'more', 'can', 'whenever', 'namely', 'first', 'move', 'here', 'your', \"'m\", 'everything', 'noone', 'anything', 'whither', 'whole', 'against', 'after', 'full', 'of', 'thereby', \"'re\", 'so', 'these', 'an', 'whether', 'nobody', 'bottom', 'latterly', 'nine', 'became', \"'ll\", 'see', 'had', 'all', 'less', 'was', 'twelve', 'nowhere', 'next', 'others', 'herein', 'since', 'whence', 'side', 'via', 'whatever', 'none', 'because', 'sometime', 'something', 'back', 'anyhow', 'due', 'or', 'eight', 'many', 'to', 'go', 'should', 'keep', 'whereby', 'except', \"'d\", 'made', 'much', 'somehow', 'himself', 'several', 'that', 'become', 'really', 'third', 'afterwards', 'if', 'her', 'but', 'used', 'throughout', 'he', 'moreover', 'besides', 'hers', 'than', 'perhaps', 'fifty', 'nothing', 'into', 'are', 'one', 'seems', 'yet', 'already', 'before', 'although', 'former', 'they', 'behind', 'call', 'very', 'cannot', 'amongst', 'as', 'anywhere', 'at', 'on', 'ourselves', 'part', 'were', 'forty', 'give', 'without', 'yours', 'using', 'out', 'four', 'such', 'now', 'unless', 'yourself', 'ten', 'among', 'this', 'rather', 'below', 'thus', 'meanwhile', 'us', 'eleven', 'whereupon', 'latter', 'elsewhere', 'off', 'becoming', 'you', 'a', '’m', 'amount', 'them', 'within', '‘m', 'ever', 'does', 'say', 'be', 'name', 'did', 'every', 'either', '’d', 'just', 'between', 'then', 'most', 'sometimes', 'might', 'my', 'enough', 'do', 'done', 'hundred', 'in', 'serious', 'could', 'under', 'around', 'five', 'by', 'together', '‘ll', 'his', 'mostly', 'while', 'quite', 'neither', 'empty', 'whose'}\n"
          ]
        }
      ]
    },
    {
      "cell_type": "code",
      "source": [
        "len(nlp.Defaults.stop_words)"
      ],
      "metadata": {
        "colab": {
          "base_uri": "https://localhost:8080/"
        },
        "id": "io6ZrJre7Sb8",
        "outputId": "c70fa550-a961-44ec-c7ca-a6885e714348"
      },
      "execution_count": null,
      "outputs": [
        {
          "output_type": "execute_result",
          "data": {
            "text/plain": [
              "326"
            ]
          },
          "metadata": {},
          "execution_count": 3
        }
      ]
    },
    {
      "cell_type": "markdown",
      "source": [
        "word is a stop word"
      ],
      "metadata": {
        "id": "dLArNfFW76o_"
      }
    },
    {
      "cell_type": "code",
      "source": [
        "nlp.vocab['myself'].is_stop"
      ],
      "metadata": {
        "colab": {
          "base_uri": "https://localhost:8080/"
        },
        "id": "IEXoyt2I75o5",
        "outputId": "a4cd7e7c-e6c7-42ae-e954-9203644bb50c"
      },
      "execution_count": null,
      "outputs": [
        {
          "output_type": "execute_result",
          "data": {
            "text/plain": [
              "True"
            ]
          },
          "metadata": {},
          "execution_count": 4
        }
      ]
    },
    {
      "cell_type": "code",
      "source": [
        "nlp.vocab['Random'].is_stop"
      ],
      "metadata": {
        "colab": {
          "base_uri": "https://localhost:8080/"
        },
        "id": "iq_A1ciT75rz",
        "outputId": "8d6a4dab-a76b-4bf2-9a00-bcb077f1c93f"
      },
      "execution_count": null,
      "outputs": [
        {
          "output_type": "execute_result",
          "data": {
            "text/plain": [
              "False"
            ]
          },
          "metadata": {},
          "execution_count": 5
        }
      ]
    },
    {
      "cell_type": "markdown",
      "source": [
        "To Add A Stop word"
      ],
      "metadata": {
        "id": "4UyqPHdO8L6u"
      }
    },
    {
      "cell_type": "code",
      "source": [
        "nlp.Defaults.stop_words.add('Random')"
      ],
      "metadata": {
        "id": "EcNDcJID75uj"
      },
      "execution_count": null,
      "outputs": []
    },
    {
      "cell_type": "code",
      "source": [
        "nlp.vocab['Random'].is_stop = True"
      ],
      "metadata": {
        "id": "gjOYkBLk75xT"
      },
      "execution_count": null,
      "outputs": []
    },
    {
      "cell_type": "code",
      "source": [
        "len(nlp.Defaults.stop_words)"
      ],
      "metadata": {
        "colab": {
          "base_uri": "https://localhost:8080/"
        },
        "id": "U_DYyvXS75z5",
        "outputId": "0f92acdb-f5fd-4510-e167-de48661df3a1"
      },
      "execution_count": null,
      "outputs": [
        {
          "output_type": "execute_result",
          "data": {
            "text/plain": [
              "327"
            ]
          },
          "metadata": {},
          "execution_count": 8
        }
      ]
    },
    {
      "cell_type": "markdown",
      "source": [
        "To remove a stop word"
      ],
      "metadata": {
        "id": "9WDkvWNW9pNA"
      }
    },
    {
      "cell_type": "code",
      "source": [
        "nlp.Defaults.stop_words.remove('Random')"
      ],
      "metadata": {
        "id": "a0wbpVLC753X"
      },
      "execution_count": null,
      "outputs": []
    },
    {
      "cell_type": "code",
      "source": [
        "nlp.vocab['Random'].is_stop = False"
      ],
      "metadata": {
        "id": "YuvHLt9p90p2"
      },
      "execution_count": null,
      "outputs": []
    },
    {
      "cell_type": "code",
      "source": [
        "len(nlp.Defaults.stop_words)"
      ],
      "metadata": {
        "colab": {
          "base_uri": "https://localhost:8080/"
        },
        "id": "4gQFOqaB97zt",
        "outputId": "757a4ff1-a0a5-48ce-ae71-8a7b197dca9e"
      },
      "execution_count": null,
      "outputs": [
        {
          "output_type": "execute_result",
          "data": {
            "text/plain": [
              "326"
            ]
          },
          "metadata": {},
          "execution_count": 11
        }
      ]
    }
  ]
}