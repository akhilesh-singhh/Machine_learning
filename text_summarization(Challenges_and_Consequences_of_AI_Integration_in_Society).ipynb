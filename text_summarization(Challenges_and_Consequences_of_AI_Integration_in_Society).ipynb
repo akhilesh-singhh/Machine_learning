{
  "cells": [
    {
      "cell_type": "code",
      "execution_count": null,
      "id": "c04ed0a8-6ce7-4456-8f62-7cad9987a40b",
      "metadata": {
        "id": "c04ed0a8-6ce7-4456-8f62-7cad9987a40b"
      },
      "outputs": [],
      "source": [
        "# IMPORTING THE LIBRARIES AND DATASET"
      ]
    },
    {
      "cell_type": "code",
      "execution_count": null,
      "id": "a48e0a0e-de75-4147-9a2a-4152344bb1b8",
      "metadata": {
        "id": "a48e0a0e-de75-4147-9a2a-4152344bb1b8"
      },
      "outputs": [],
      "source": [
        "import spacy\n",
        "from spacy.lang.en.stop_words import STOP_WORDS\n",
        "from string import punctuation"
      ]
    },
    {
      "cell_type": "code",
      "execution_count": null,
      "id": "3fc5689c-28d6-4bd6-b723-160ce017a519",
      "metadata": {
        "id": "3fc5689c-28d6-4bd6-b723-160ce017a519"
      },
      "outputs": [],
      "source": [
        "nlp=spacy.load('en_core_web_sm')"
      ]
    },
    {
      "cell_type": "code",
      "execution_count": null,
      "id": "2e108139-5cd2-409c-8a3e-743a907d9c45",
      "metadata": {
        "id": "2e108139-5cd2-409c-8a3e-743a907d9c45"
      },
      "outputs": [],
      "source": [
        "text = \"\"\" In the ever-evolving landscape of modern technology, the proliferation of artificial intelligence and machine learning has not only transformed traditional industries but has also introduced unprecedented ethical dilemmas and regulatory challenges that require immediate and thoughtful consideration. From the automation of labor-intensive tasks in manufacturing to the personalization of digital experiences in marketing and healthcare, AI systems are becoming deeply embedded in the fabric of daily life. However, as these systems grow more autonomous and data-hungry, concerns regarding privacy, algorithmic bias, and the transparency of decision-making processes have become more pressing than ever. For instance, facial recognition technologies, while useful in security and law enforcement, have demonstrated significantly higher error rates for individuals from minority groups, raising issues of fairness and accountability. Additionally, the opacity of deep learning models—often described as \"black boxes\"—makes it difficult for even their creators to fully understand how specific outcomes are derived, posing a major challenge in sectors like finance, criminal justice, and healthcare, where interpretability is crucial. Furthermore, the geopolitical implications of AI dominance have sparked an arms race among global superpowers, each striving to gain a strategic edge through the development of advanced autonomous systems and cyber capabilities. In response, international bodies and governments are scrambling to establish frameworks and guidelines that balance innovation with ethical responsibility, though such efforts are frequently hampered by conflicting interests, technological complexity, and rapidly shifting developments in the field. As we stand at this critical juncture, the question is not whether AI will reshape our world, but how—and whether humanity can wield this transformative power with the wisdom and foresight necessary to ensure equitable and beneficial outcomes for all. \"\"\""
      ]
    },
    {
      "cell_type": "code",
      "execution_count": null,
      "id": "efbd1ccb-696a-4bc3-a8e6-e4819d8a6a73",
      "metadata": {
        "id": "efbd1ccb-696a-4bc3-a8e6-e4819d8a6a73"
      },
      "outputs": [],
      "source": [
        "stopwords =list(STOP_WORDS)"
      ]
    },
    {
      "cell_type": "code",
      "execution_count": null,
      "id": "fa13f1ff-b6d5-4380-99a3-a33f625724f6",
      "metadata": {
        "id": "fa13f1ff-b6d5-4380-99a3-a33f625724f6"
      },
      "outputs": [],
      "source": [
        "doc=nlp(text)#applied tokenization"
      ]
    },
    {
      "cell_type": "code",
      "execution_count": null,
      "id": "8608121f-63db-4098-ab30-d1ecb524cfdc",
      "metadata": {
        "colab": {
          "base_uri": "https://localhost:8080/"
        },
        "id": "8608121f-63db-4098-ab30-d1ecb524cfdc",
        "outputId": "528a8e58-e4a5-4e83-dfdf-93864661e19e"
      },
      "outputs": [
        {
          "output_type": "stream",
          "name": "stdout",
          "text": [
            "[' ', 'In', 'the', 'ever', '-', 'evolving', 'landscape', 'of', 'modern', 'technology', ',', 'the', 'proliferation', 'of', 'artificial', 'intelligence', 'and', 'machine', 'learning', 'has', 'not', 'only', 'transformed', 'traditional', 'industries', 'but', 'has', 'also', 'introduced', 'unprecedented', 'ethical', 'dilemmas', 'and', 'regulatory', 'challenges', 'that', 'require', 'immediate', 'and', 'thoughtful', 'consideration', '.', 'From', 'the', 'automation', 'of', 'labor', '-', 'intensive', 'tasks', 'in', 'manufacturing', 'to', 'the', 'personalization', 'of', 'digital', 'experiences', 'in', 'marketing', 'and', 'healthcare', ',', 'AI', 'systems', 'are', 'becoming', 'deeply', 'embedded', 'in', 'the', 'fabric', 'of', 'daily', 'life', '.', 'However', ',', 'as', 'these', 'systems', 'grow', 'more', 'autonomous', 'and', 'data', '-', 'hungry', ',', 'concerns', 'regarding', 'privacy', ',', 'algorithmic', 'bias', ',', 'and', 'the', 'transparency', 'of', 'decision', '-', 'making', 'processes', 'have', 'become', 'more', 'pressing', 'than', 'ever', '.', 'For', 'instance', ',', 'facial', 'recognition', 'technologies', ',', 'while', 'useful', 'in', 'security', 'and', 'law', 'enforcement', ',', 'have', 'demonstrated', 'significantly', 'higher', 'error', 'rates', 'for', 'individuals', 'from', 'minority', 'groups', ',', 'raising', 'issues', 'of', 'fairness', 'and', 'accountability', '.', 'Additionally', ',', 'the', 'opacity', 'of', 'deep', 'learning', 'models', '—', 'often', 'described', 'as', '\"', 'black', 'boxes\"—makes', 'it', 'difficult', 'for', 'even', 'their', 'creators', 'to', 'fully', 'understand', 'how', 'specific', 'outcomes', 'are', 'derived', ',', 'posing', 'a', 'major', 'challenge', 'in', 'sectors', 'like', 'finance', ',', 'criminal', 'justice', ',', 'and', 'healthcare', ',', 'where', 'interpretability', 'is', 'crucial', '.', 'Furthermore', ',', 'the', 'geopolitical', 'implications', 'of', 'AI', 'dominance', 'have', 'sparked', 'an', 'arms', 'race', 'among', 'global', 'superpowers', ',', 'each', 'striving', 'to', 'gain', 'a', 'strategic', 'edge', 'through', 'the', 'development', 'of', 'advanced', 'autonomous', 'systems', 'and', 'cyber', 'capabilities', '.', 'In', 'response', ',', 'international', 'bodies', 'and', 'governments', 'are', 'scrambling', 'to', 'establish', 'frameworks', 'and', 'guidelines', 'that', 'balance', 'innovation', 'with', 'ethical', 'responsibility', ',', 'though', 'such', 'efforts', 'are', 'frequently', 'hampered', 'by', 'conflicting', 'interests', ',', 'technological', 'complexity', ',', 'and', 'rapidly', 'shifting', 'developments', 'in', 'the', 'field', '.', 'As', 'we', 'stand', 'at', 'this', 'critical', 'juncture', ',', 'the', 'question', 'is', 'not', 'whether', 'AI', 'will', 'reshape', 'our', 'world', ',', 'but', 'how', '—', 'and', 'whether', 'humanity', 'can', 'wield', 'this', 'transformative', 'power', 'with', 'the', 'wisdom', 'and', 'foresight', 'necessary', 'to', 'ensure', 'equitable', 'and', 'beneficial', 'outcomes', 'for', 'all', '.']\n"
          ]
        }
      ],
      "source": [
        "tokens=[token.text for token in doc]\n",
        "print(tokens)"
      ]
    },
    {
      "cell_type": "code",
      "execution_count": null,
      "id": "8cf392b4-739b-495c-ba3b-e00414bea3d2",
      "metadata": {
        "id": "8cf392b4-739b-495c-ba3b-e00414bea3d2"
      },
      "outputs": [],
      "source": [
        "#as you can see in above output,the punctuation and stop words are also the part of tokens"
      ]
    },
    {
      "cell_type": "code",
      "execution_count": null,
      "id": "d5830576-b810-4b25-a8a0-5ef223e3af2b",
      "metadata": {
        "colab": {
          "base_uri": "https://localhost:8080/",
          "height": 36
        },
        "id": "d5830576-b810-4b25-a8a0-5ef223e3af2b",
        "outputId": "b1f09daf-88b0-412d-8794-6727a4fd9fe4"
      },
      "outputs": [
        {
          "output_type": "execute_result",
          "data": {
            "text/plain": [
              "'!\"#$%&\\'()*+,-./:;<=>?@[\\\\]^_`{|}~'"
            ],
            "application/vnd.google.colaboratory.intrinsic+json": {
              "type": "string"
            }
          },
          "metadata": {},
          "execution_count": 9
        }
      ],
      "source": [
        "punctuation\n",
        "#list of punctuations"
      ]
    },
    {
      "cell_type": "code",
      "execution_count": null,
      "id": "3d3655af-4fe3-44d4-bd3a-58f834a2147a",
      "metadata": {
        "id": "3d3655af-4fe3-44d4-bd3a-58f834a2147a"
      },
      "outputs": [],
      "source": [
        "#ADD NEW LINE(/N) TO PUNCTIUATION\n",
        "punctuation = punctuation + '/n'"
      ]
    },
    {
      "cell_type": "code",
      "execution_count": null,
      "id": "daa1c56e-8446-4d69-815f-3d22017299cf",
      "metadata": {
        "colab": {
          "base_uri": "https://localhost:8080/",
          "height": 36
        },
        "id": "daa1c56e-8446-4d69-815f-3d22017299cf",
        "outputId": "cb6d1c28-2594-4aa1-b563-9b46f7ff6a0b"
      },
      "outputs": [
        {
          "output_type": "execute_result",
          "data": {
            "text/plain": [
              "'!\"#$%&\\'()*+,-./:;<=>?@[\\\\]^_`{|}~/n'"
            ],
            "application/vnd.google.colaboratory.intrinsic+json": {
              "type": "string"
            }
          },
          "metadata": {},
          "execution_count": 11
        }
      ],
      "source": [
        "punctuation"
      ]
    },
    {
      "cell_type": "code",
      "execution_count": null,
      "id": "ca5fed89-b7ed-4205-897f-0c827a624886",
      "metadata": {
        "id": "ca5fed89-b7ed-4205-897f-0c827a624886"
      },
      "outputs": [],
      "source": [
        "#second step\n",
        "#text cleaning"
      ]
    },
    {
      "cell_type": "code",
      "execution_count": null,
      "id": "8b01519b-5e39-4994-a545-5fae39554cbc",
      "metadata": {
        "id": "8b01519b-5e39-4994-a545-5fae39554cbc"
      },
      "outputs": [],
      "source": [
        "word_frequencies ={}"
      ]
    },
    {
      "cell_type": "code",
      "execution_count": null,
      "id": "17c33dbe-35cf-49a2-b95b-f635b512b2d8",
      "metadata": {
        "id": "17c33dbe-35cf-49a2-b95b-f635b512b2d8"
      },
      "outputs": [],
      "source": [
        "for word in doc:\n",
        "   if word.text.lower() not in stopwords:\n",
        "       if word.text.lower() not in punctuation:\n",
        "           if word.text not in word_frequencies.keys():\n",
        "               word_frequencies[word.text] = 1\n",
        "           else:\n",
        "               word_frequencies[word.text] +=1"
      ]
    },
    {
      "cell_type": "code",
      "execution_count": null,
      "id": "e667cda3-41dd-43da-9132-7691687ea29c",
      "metadata": {
        "id": "e667cda3-41dd-43da-9132-7691687ea29c"
      },
      "outputs": [],
      "source": [
        "#if any key is being introduced being first time the word of that occurence  is onw\n",
        "#when a wod is being introduced second times,thirdtimes,so on..\n",
        "#it will be incremented by 1"
      ]
    },
    {
      "cell_type": "code",
      "execution_count": null,
      "id": "e3032b65-4983-4411-922d-d0eb52af357b",
      "metadata": {
        "colab": {
          "base_uri": "https://localhost:8080/"
        },
        "id": "e3032b65-4983-4411-922d-d0eb52af357b",
        "outputId": "a19ffbb4-2401-4b38-b934-5c343d86d016"
      },
      "outputs": [
        {
          "output_type": "stream",
          "name": "stdout",
          "text": [
            "{' ': 1, 'evolving': 1, 'landscape': 1, 'modern': 1, 'technology': 1, 'proliferation': 1, 'artificial': 1, 'intelligence': 1, 'machine': 1, 'learning': 2, 'transformed': 1, 'traditional': 1, 'industries': 1, 'introduced': 1, 'unprecedented': 1, 'ethical': 2, 'dilemmas': 1, 'regulatory': 1, 'challenges': 1, 'require': 1, 'immediate': 1, 'thoughtful': 1, 'consideration': 1, 'automation': 1, 'labor': 1, 'intensive': 1, 'tasks': 1, 'manufacturing': 1, 'personalization': 1, 'digital': 1, 'experiences': 1, 'marketing': 1, 'healthcare': 2, 'AI': 3, 'systems': 3, 'deeply': 1, 'embedded': 1, 'fabric': 1, 'daily': 1, 'life': 1, 'grow': 1, 'autonomous': 2, 'data': 1, 'hungry': 1, 'concerns': 1, 'privacy': 1, 'algorithmic': 1, 'bias': 1, 'transparency': 1, 'decision': 1, 'making': 1, 'processes': 1, 'pressing': 1, 'instance': 1, 'facial': 1, 'recognition': 1, 'technologies': 1, 'useful': 1, 'security': 1, 'law': 1, 'enforcement': 1, 'demonstrated': 1, 'significantly': 1, 'higher': 1, 'error': 1, 'rates': 1, 'individuals': 1, 'minority': 1, 'groups': 1, 'raising': 1, 'issues': 1, 'fairness': 1, 'accountability': 1, 'Additionally': 1, 'opacity': 1, 'deep': 1, 'models': 1, '—': 2, 'described': 1, 'black': 1, 'boxes\"—makes': 1, 'difficult': 1, 'creators': 1, 'fully': 1, 'understand': 1, 'specific': 1, 'outcomes': 2, 'derived': 1, 'posing': 1, 'major': 1, 'challenge': 1, 'sectors': 1, 'like': 1, 'finance': 1, 'criminal': 1, 'justice': 1, 'interpretability': 1, 'crucial': 1, 'Furthermore': 1, 'geopolitical': 1, 'implications': 1, 'dominance': 1, 'sparked': 1, 'arms': 1, 'race': 1, 'global': 1, 'superpowers': 1, 'striving': 1, 'gain': 1, 'strategic': 1, 'edge': 1, 'development': 1, 'advanced': 1, 'cyber': 1, 'capabilities': 1, 'response': 1, 'international': 1, 'bodies': 1, 'governments': 1, 'scrambling': 1, 'establish': 1, 'frameworks': 1, 'guidelines': 1, 'balance': 1, 'innovation': 1, 'responsibility': 1, 'efforts': 1, 'frequently': 1, 'hampered': 1, 'conflicting': 1, 'interests': 1, 'technological': 1, 'complexity': 1, 'rapidly': 1, 'shifting': 1, 'developments': 1, 'field': 1, 'stand': 1, 'critical': 1, 'juncture': 1, 'question': 1, 'reshape': 1, 'world': 1, 'humanity': 1, 'wield': 1, 'transformative': 1, 'power': 1, 'wisdom': 1, 'foresight': 1, 'necessary': 1, 'ensure': 1, 'equitable': 1, 'beneficial': 1}\n"
          ]
        }
      ],
      "source": [
        "print(word_frequencies)"
      ]
    },
    {
      "cell_type": "code",
      "execution_count": null,
      "id": "07d2651e-d402-44ee-a203-fc3c4229444d",
      "metadata": {
        "id": "07d2651e-d402-44ee-a203-fc3c4229444d"
      },
      "outputs": [],
      "source": [
        "max_frequency = max(word_frequencies.values())"
      ]
    },
    {
      "cell_type": "code",
      "execution_count": null,
      "id": "e678ba5e-3d1b-4d2f-b169-af5cdc516970",
      "metadata": {
        "colab": {
          "base_uri": "https://localhost:8080/"
        },
        "id": "e678ba5e-3d1b-4d2f-b169-af5cdc516970",
        "outputId": "600c2017-f3f9-4bca-efff-0c19c716bf1a"
      },
      "outputs": [
        {
          "output_type": "execute_result",
          "data": {
            "text/plain": [
              "3"
            ]
          },
          "metadata": {},
          "execution_count": 18
        }
      ],
      "source": [
        "max_frequency"
      ]
    },
    {
      "cell_type": "code",
      "execution_count": null,
      "id": "5e3e0297-7cf9-4988-9be8-c049ed2cad48",
      "metadata": {
        "id": "5e3e0297-7cf9-4988-9be8-c049ed2cad48"
      },
      "outputs": [],
      "source": [
        "#we are going to divide each of the value by 6 (max_frequency)\n",
        "#so the normalizes frequency can be achieved"
      ]
    },
    {
      "cell_type": "code",
      "execution_count": null,
      "id": "4b96f049-58a7-40c0-9001-1c7dd5f38773",
      "metadata": {
        "id": "4b96f049-58a7-40c0-9001-1c7dd5f38773"
      },
      "outputs": [],
      "source": [
        "for word in word_frequencies.keys():\n",
        "    word_frequencies[word] = word_frequencies[word] / max_frequency\n"
      ]
    },
    {
      "cell_type": "code",
      "execution_count": null,
      "id": "b549bc01-7ac7-457d-a130-59bb7f72adfe",
      "metadata": {
        "colab": {
          "base_uri": "https://localhost:8080/"
        },
        "id": "b549bc01-7ac7-457d-a130-59bb7f72adfe",
        "outputId": "e37f0d90-9e78-4a82-9667-b31352ae9f8c"
      },
      "outputs": [
        {
          "output_type": "stream",
          "name": "stdout",
          "text": [
            "{' ': 0.3333333333333333, 'evolving': 0.3333333333333333, 'landscape': 0.3333333333333333, 'modern': 0.3333333333333333, 'technology': 0.3333333333333333, 'proliferation': 0.3333333333333333, 'artificial': 0.3333333333333333, 'intelligence': 0.3333333333333333, 'machine': 0.3333333333333333, 'learning': 0.6666666666666666, 'transformed': 0.3333333333333333, 'traditional': 0.3333333333333333, 'industries': 0.3333333333333333, 'introduced': 0.3333333333333333, 'unprecedented': 0.3333333333333333, 'ethical': 0.6666666666666666, 'dilemmas': 0.3333333333333333, 'regulatory': 0.3333333333333333, 'challenges': 0.3333333333333333, 'require': 0.3333333333333333, 'immediate': 0.3333333333333333, 'thoughtful': 0.3333333333333333, 'consideration': 0.3333333333333333, 'automation': 0.3333333333333333, 'labor': 0.3333333333333333, 'intensive': 0.3333333333333333, 'tasks': 0.3333333333333333, 'manufacturing': 0.3333333333333333, 'personalization': 0.3333333333333333, 'digital': 0.3333333333333333, 'experiences': 0.3333333333333333, 'marketing': 0.3333333333333333, 'healthcare': 0.6666666666666666, 'AI': 1.0, 'systems': 1.0, 'deeply': 0.3333333333333333, 'embedded': 0.3333333333333333, 'fabric': 0.3333333333333333, 'daily': 0.3333333333333333, 'life': 0.3333333333333333, 'grow': 0.3333333333333333, 'autonomous': 0.6666666666666666, 'data': 0.3333333333333333, 'hungry': 0.3333333333333333, 'concerns': 0.3333333333333333, 'privacy': 0.3333333333333333, 'algorithmic': 0.3333333333333333, 'bias': 0.3333333333333333, 'transparency': 0.3333333333333333, 'decision': 0.3333333333333333, 'making': 0.3333333333333333, 'processes': 0.3333333333333333, 'pressing': 0.3333333333333333, 'instance': 0.3333333333333333, 'facial': 0.3333333333333333, 'recognition': 0.3333333333333333, 'technologies': 0.3333333333333333, 'useful': 0.3333333333333333, 'security': 0.3333333333333333, 'law': 0.3333333333333333, 'enforcement': 0.3333333333333333, 'demonstrated': 0.3333333333333333, 'significantly': 0.3333333333333333, 'higher': 0.3333333333333333, 'error': 0.3333333333333333, 'rates': 0.3333333333333333, 'individuals': 0.3333333333333333, 'minority': 0.3333333333333333, 'groups': 0.3333333333333333, 'raising': 0.3333333333333333, 'issues': 0.3333333333333333, 'fairness': 0.3333333333333333, 'accountability': 0.3333333333333333, 'Additionally': 0.3333333333333333, 'opacity': 0.3333333333333333, 'deep': 0.3333333333333333, 'models': 0.3333333333333333, '—': 0.6666666666666666, 'described': 0.3333333333333333, 'black': 0.3333333333333333, 'boxes\"—makes': 0.3333333333333333, 'difficult': 0.3333333333333333, 'creators': 0.3333333333333333, 'fully': 0.3333333333333333, 'understand': 0.3333333333333333, 'specific': 0.3333333333333333, 'outcomes': 0.6666666666666666, 'derived': 0.3333333333333333, 'posing': 0.3333333333333333, 'major': 0.3333333333333333, 'challenge': 0.3333333333333333, 'sectors': 0.3333333333333333, 'like': 0.3333333333333333, 'finance': 0.3333333333333333, 'criminal': 0.3333333333333333, 'justice': 0.3333333333333333, 'interpretability': 0.3333333333333333, 'crucial': 0.3333333333333333, 'Furthermore': 0.3333333333333333, 'geopolitical': 0.3333333333333333, 'implications': 0.3333333333333333, 'dominance': 0.3333333333333333, 'sparked': 0.3333333333333333, 'arms': 0.3333333333333333, 'race': 0.3333333333333333, 'global': 0.3333333333333333, 'superpowers': 0.3333333333333333, 'striving': 0.3333333333333333, 'gain': 0.3333333333333333, 'strategic': 0.3333333333333333, 'edge': 0.3333333333333333, 'development': 0.3333333333333333, 'advanced': 0.3333333333333333, 'cyber': 0.3333333333333333, 'capabilities': 0.3333333333333333, 'response': 0.3333333333333333, 'international': 0.3333333333333333, 'bodies': 0.3333333333333333, 'governments': 0.3333333333333333, 'scrambling': 0.3333333333333333, 'establish': 0.3333333333333333, 'frameworks': 0.3333333333333333, 'guidelines': 0.3333333333333333, 'balance': 0.3333333333333333, 'innovation': 0.3333333333333333, 'responsibility': 0.3333333333333333, 'efforts': 0.3333333333333333, 'frequently': 0.3333333333333333, 'hampered': 0.3333333333333333, 'conflicting': 0.3333333333333333, 'interests': 0.3333333333333333, 'technological': 0.3333333333333333, 'complexity': 0.3333333333333333, 'rapidly': 0.3333333333333333, 'shifting': 0.3333333333333333, 'developments': 0.3333333333333333, 'field': 0.3333333333333333, 'stand': 0.3333333333333333, 'critical': 0.3333333333333333, 'juncture': 0.3333333333333333, 'question': 0.3333333333333333, 'reshape': 0.3333333333333333, 'world': 0.3333333333333333, 'humanity': 0.3333333333333333, 'wield': 0.3333333333333333, 'transformative': 0.3333333333333333, 'power': 0.3333333333333333, 'wisdom': 0.3333333333333333, 'foresight': 0.3333333333333333, 'necessary': 0.3333333333333333, 'ensure': 0.3333333333333333, 'equitable': 0.3333333333333333, 'beneficial': 0.3333333333333333}\n"
          ]
        }
      ],
      "source": [
        "print(word_frequencies)\n",
        "#all the word frequencies  are normalized"
      ]
    },
    {
      "cell_type": "code",
      "execution_count": null,
      "id": "3be0c67e-546d-4ff0-af93-067c2891f1fb",
      "metadata": {
        "id": "3be0c67e-546d-4ff0-af93-067c2891f1fb"
      },
      "outputs": [],
      "source": [
        "#step three\n",
        "#sentence tokenization"
      ]
    },
    {
      "cell_type": "code",
      "execution_count": null,
      "id": "212512f7-44f1-421b-9678-8cf1dcacef6d",
      "metadata": {
        "colab": {
          "base_uri": "https://localhost:8080/"
        },
        "id": "212512f7-44f1-421b-9678-8cf1dcacef6d",
        "outputId": "ccefe3f0-fcff-4109-f806-161714cdaa74"
      },
      "outputs": [
        {
          "output_type": "stream",
          "name": "stdout",
          "text": [
            "[ In the ever-evolving landscape of modern technology, the proliferation of artificial intelligence and machine learning has not only transformed traditional industries but has also introduced unprecedented ethical dilemmas and regulatory challenges that require immediate and thoughtful consideration., From the automation of labor-intensive tasks in manufacturing to the personalization of digital experiences in marketing and healthcare, AI systems are becoming deeply embedded in the fabric of daily life., However, as these systems grow more autonomous and data-hungry, concerns regarding privacy, algorithmic bias, and the transparency of decision-making processes have become more pressing than ever., For instance, facial recognition technologies, while useful in security and law enforcement, have demonstrated significantly higher error rates for individuals from minority groups, raising issues of fairness and accountability., Additionally, the opacity of deep learning models—often described as \"black boxes\"—makes it difficult for even their creators to fully understand how specific outcomes are derived, posing a major challenge in sectors like finance, criminal justice, and healthcare, where interpretability is crucial., Furthermore, the geopolitical implications of AI dominance have sparked an arms race among global superpowers, each striving to gain a strategic edge through the development of advanced autonomous systems and cyber capabilities., In response, international bodies and governments are scrambling to establish frameworks and guidelines that balance innovation with ethical responsibility, though such efforts are frequently hampered by conflicting interests, technological complexity, and rapidly shifting developments in the field., As we stand at this critical juncture, the question is not whether AI will reshape our world, but how—and whether humanity can wield this transformative power with the wisdom and foresight necessary to ensure equitable and beneficial outcomes for all.]\n"
          ]
        }
      ],
      "source": [
        "sentence_tokens=[sent for sent in doc.sents]\n",
        "print(sentence_tokens)"
      ]
    },
    {
      "cell_type": "code",
      "execution_count": null,
      "id": "2a6457c3-cc16-4e1e-a8b1-ffe8fcb5a301",
      "metadata": {
        "id": "2a6457c3-cc16-4e1e-a8b1-ffe8fcb5a301"
      },
      "outputs": [],
      "source": [
        "#calculate sentence score"
      ]
    },
    {
      "cell_type": "code",
      "execution_count": null,
      "id": "0924c008-6ac9-429f-bb18-f794788993b5",
      "metadata": {
        "id": "0924c008-6ac9-429f-bb18-f794788993b5"
      },
      "outputs": [],
      "source": [
        "sentence_score={}\n",
        "for sent in sentence_tokens:\n",
        "    for word in sent:\n",
        "        if word.text.lower() in word_frequencies.keys(): # if word_frequencies.keys() present there\n",
        "            if sent not in sentence_score.keys():# we will add normalized freq counts in each sentence\n",
        "                sentence_score[sent] = word_frequencies[word.text.lower()]\n",
        "            else:\n",
        "                sentence_score[sent]+=word_frequencies[word.text.lower()]"
      ]
    },
    {
      "cell_type": "code",
      "execution_count": null,
      "id": "6ea56232-b825-49a7-afab-c485ba632eb9",
      "metadata": {
        "colab": {
          "base_uri": "https://localhost:8080/"
        },
        "id": "6ea56232-b825-49a7-afab-c485ba632eb9",
        "outputId": "dcf85db1-99bd-43ce-dbe2-dfeca4ccba9c"
      },
      "outputs": [
        {
          "output_type": "stream",
          "name": "stdout",
          "text": [
            "{ In the ever-evolving landscape of modern technology, the proliferation of artificial intelligence and machine learning has not only transformed traditional industries but has also introduced unprecedented ethical dilemmas and regulatory challenges that require immediate and thoughtful consideration.: 8.33333333333333, From the automation of labor-intensive tasks in manufacturing to the personalization of digital experiences in marketing and healthcare, AI systems are becoming deeply embedded in the fabric of daily life.: 6.333333333333331, However, as these systems grow more autonomous and data-hungry, concerns regarding privacy, algorithmic bias, and the transparency of decision-making processes have become more pressing than ever.: 5.666666666666666, For instance, facial recognition technologies, while useful in security and law enforcement, have demonstrated significantly higher error rates for individuals from minority groups, raising issues of fairness and accountability.: 6.666666666666664, Additionally, the opacity of deep learning models—often described as \"black boxes\"—makes it difficult for even their creators to fully understand how specific outcomes are derived, posing a major challenge in sectors like finance, criminal justice, and healthcare, where interpretability is crucial.: 9.999999999999998, Furthermore, the geopolitical implications of AI dominance have sparked an arms race among global superpowers, each striving to gain a strategic edge through the development of advanced autonomous systems and cyber capabilities.: 6.999999999999999, In response, international bodies and governments are scrambling to establish frameworks and guidelines that balance innovation with ethical responsibility, though such efforts are frequently hampered by conflicting interests, technological complexity, and rapidly shifting developments in the field.: 7.9999999999999964, As we stand at this critical juncture, the question is not whether AI will reshape our world, but how—and whether humanity can wield this transformative power with the wisdom and foresight necessary to ensure equitable and beneficial outcomes for all.: 6.666666666666665}\n"
          ]
        }
      ],
      "source": [
        "print(sentence_score)"
      ]
    },
    {
      "cell_type": "code",
      "execution_count": null,
      "id": "3e1c6ad7-1550-422d-87ff-0ef88515050a",
      "metadata": {
        "id": "3e1c6ad7-1550-422d-87ff-0ef88515050a"
      },
      "outputs": [],
      "source": [
        "#step 3\n",
        "#select 30% sentences with maximum score"
      ]
    },
    {
      "cell_type": "code",
      "execution_count": null,
      "id": "3c48906b-e6e9-4cde-bc40-fecc386bc966",
      "metadata": {
        "id": "3c48906b-e6e9-4cde-bc40-fecc386bc966"
      },
      "outputs": [],
      "source": [
        "from heapq import nlargest"
      ]
    },
    {
      "cell_type": "code",
      "execution_count": null,
      "id": "bd52e72c-a165-4806-96bc-6d4824e1ec13",
      "metadata": {
        "id": "bd52e72c-a165-4806-96bc-6d4824e1ec13"
      },
      "outputs": [],
      "source": [
        "select_length = int(len(sentence_tokens)) *0.3"
      ]
    },
    {
      "cell_type": "code",
      "execution_count": null,
      "id": "7875e064-7d7b-41b3-85d8-e39145406d12",
      "metadata": {
        "colab": {
          "base_uri": "https://localhost:8080/"
        },
        "id": "7875e064-7d7b-41b3-85d8-e39145406d12",
        "outputId": "33c773b1-18dd-441c-b017-ca4a88a08d5d"
      },
      "outputs": [
        {
          "output_type": "stream",
          "name": "stdout",
          "text": [
            "2.4\n"
          ]
        }
      ],
      "source": [
        "print(select_length)"
      ]
    },
    {
      "cell_type": "code",
      "execution_count": null,
      "id": "6401694f-3200-4e3b-a8f8-6560b1bba16c",
      "metadata": {
        "id": "6401694f-3200-4e3b-a8f8-6560b1bba16c"
      },
      "outputs": [],
      "source": [
        "#step4\n",
        "#getting the summary"
      ]
    },
    {
      "cell_type": "code",
      "execution_count": null,
      "id": "7bbe6081-d7ad-48bc-a212-c3ec81526460",
      "metadata": {
        "id": "7bbe6081-d7ad-48bc-a212-c3ec81526460"
      },
      "outputs": [],
      "source": [
        "summary = nlargest(n=int(select_length),iterable=sentence_score,key = sentence_score.get)"
      ]
    },
    {
      "cell_type": "code",
      "execution_count": null,
      "id": "af4652bd-1df0-4ebb-abb1-ee0948e7eeb7",
      "metadata": {
        "colab": {
          "base_uri": "https://localhost:8080/"
        },
        "id": "af4652bd-1df0-4ebb-abb1-ee0948e7eeb7",
        "outputId": "c8c0650a-7429-4943-d5f7-f53eff282530"
      },
      "outputs": [
        {
          "output_type": "stream",
          "name": "stdout",
          "text": [
            "[Additionally, the opacity of deep learning models—often described as \"black boxes\"—makes it difficult for even their creators to fully understand how specific outcomes are derived, posing a major challenge in sectors like finance, criminal justice, and healthcare, where interpretability is crucial.,  In the ever-evolving landscape of modern technology, the proliferation of artificial intelligence and machine learning has not only transformed traditional industries but has also introduced unprecedented ethical dilemmas and regulatory challenges that require immediate and thoughtful consideration.]\n"
          ]
        }
      ],
      "source": [
        "print(summary)\n",
        "#these 8 sentences represents summary of text"
      ]
    },
    {
      "cell_type": "code",
      "execution_count": null,
      "id": "02efaffa-7f5d-4c9c-bb7e-027e736902d8",
      "metadata": {
        "id": "02efaffa-7f5d-4c9c-bb7e-027e736902d8"
      },
      "outputs": [],
      "source": [
        "#combine these sentences together"
      ]
    },
    {
      "cell_type": "code",
      "execution_count": null,
      "id": "a50c42fe-9497-44d9-aada-fa769a7b0f67",
      "metadata": {
        "id": "a50c42fe-9497-44d9-aada-fa769a7b0f67"
      },
      "outputs": [],
      "source": [
        "final_summary=[word.text for word in summary]"
      ]
    },
    {
      "cell_type": "code",
      "execution_count": null,
      "id": "312fdea7-431d-4b94-992e-79bcf3b5588d",
      "metadata": {
        "colab": {
          "base_uri": "https://localhost:8080/"
        },
        "id": "312fdea7-431d-4b94-992e-79bcf3b5588d",
        "outputId": "13d0c0cc-67f1-4550-ec1a-099fd27ad05c"
      },
      "outputs": [
        {
          "output_type": "execute_result",
          "data": {
            "text/plain": [
              "['Additionally, the opacity of deep learning models—often described as \"black boxes\"—makes it difficult for even their creators to fully understand how specific outcomes are derived, posing a major challenge in sectors like finance, criminal justice, and healthcare, where interpretability is crucial.',\n",
              " ' In the ever-evolving landscape of modern technology, the proliferation of artificial intelligence and machine learning has not only transformed traditional industries but has also introduced unprecedented ethical dilemmas and regulatory challenges that require immediate and thoughtful consideration.']"
            ]
          },
          "metadata": {},
          "execution_count": 36
        }
      ],
      "source": [
        "final_summary"
      ]
    },
    {
      "cell_type": "code",
      "execution_count": null,
      "id": "ef18f129-4205-4786-bd10-e63e24408372",
      "metadata": {
        "id": "ef18f129-4205-4786-bd10-e63e24408372"
      },
      "outputs": [],
      "source": [
        "summary=' '.join(final_summary)"
      ]
    },
    {
      "cell_type": "code",
      "execution_count": null,
      "id": "afc91d05-9bea-4ca5-9353-e63cb722b8b9",
      "metadata": {
        "colab": {
          "base_uri": "https://localhost:8080/"
        },
        "id": "afc91d05-9bea-4ca5-9353-e63cb722b8b9",
        "outputId": "331f6e5c-406a-4147-d6af-2caf68b5f990"
      },
      "outputs": [
        {
          "output_type": "stream",
          "name": "stdout",
          "text": [
            "Additionally, the opacity of deep learning models—often described as \"black boxes\"—makes it difficult for even their creators to fully understand how specific outcomes are derived, posing a major challenge in sectors like finance, criminal justice, and healthcare, where interpretability is crucial.  In the ever-evolving landscape of modern technology, the proliferation of artificial intelligence and machine learning has not only transformed traditional industries but has also introduced unprecedented ethical dilemmas and regulatory challenges that require immediate and thoughtful consideration.\n"
          ]
        }
      ],
      "source": [
        "print(summary)"
      ]
    },
    {
      "cell_type": "code",
      "execution_count": null,
      "id": "9d015323-8354-498b-af16-586cf45c5e82",
      "metadata": {
        "id": "9d015323-8354-498b-af16-586cf45c5e82"
      },
      "outputs": [],
      "source": [
        "#compare length of original text and summary"
      ]
    },
    {
      "cell_type": "code",
      "execution_count": null,
      "id": "ac84e123-a9d4-4f68-909c-df3faf3244ad",
      "metadata": {
        "colab": {
          "base_uri": "https://localhost:8080/"
        },
        "id": "ac84e123-a9d4-4f68-909c-df3faf3244ad",
        "outputId": "d0dcf6c5-d83a-4abf-e32f-7967f003a283"
      },
      "outputs": [
        {
          "output_type": "execute_result",
          "data": {
            "text/plain": [
              "2016"
            ]
          },
          "metadata": {},
          "execution_count": 40
        }
      ],
      "source": [
        "len(text) #length of original text"
      ]
    },
    {
      "cell_type": "code",
      "execution_count": null,
      "id": "8f5f281a-e6f1-44a0-b896-4af169c08790",
      "metadata": {
        "colab": {
          "base_uri": "https://localhost:8080/"
        },
        "id": "8f5f281a-e6f1-44a0-b896-4af169c08790",
        "outputId": "bc47eef0-fb16-4438-f3c4-d9f9481f2ea4"
      },
      "outputs": [
        {
          "output_type": "execute_result",
          "data": {
            "text/plain": [
              "601"
            ]
          },
          "metadata": {},
          "execution_count": 41
        }
      ],
      "source": [
        "len(summary)"
      ]
    }
  ],
  "metadata": {
    "kernelspec": {
      "display_name": "Python 3 (ipykernel)",
      "language": "python",
      "name": "python3"
    },
    "language_info": {
      "codemirror_mode": {
        "name": "ipython",
        "version": 3
      },
      "file_extension": ".py",
      "mimetype": "text/x-python",
      "name": "python",
      "nbconvert_exporter": "python",
      "pygments_lexer": "ipython3",
      "version": "3.12.8"
    },
    "colab": {
      "provenance": []
    }
  },
  "nbformat": 4,
  "nbformat_minor": 5
}