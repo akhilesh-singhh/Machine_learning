{
  "nbformat": 4,
  "nbformat_minor": 0,
  "metadata": {
    "colab": {
      "provenance": []
    },
    "kernelspec": {
      "name": "python3",
      "display_name": "Python 3"
    },
    "language_info": {
      "name": "python"
    }
  },
  "cells": [
    {
      "cell_type": "code",
      "execution_count": null,
      "metadata": {
        "id": "ch85X36Jfu5-"
      },
      "outputs": [],
      "source": [
        "import nltk\n",
        "\n",
        "from nltk.stem.porter import PorterStemmer"
      ]
    },
    {
      "cell_type": "code",
      "source": [
        "p_stemmer = PorterStemmer()"
      ],
      "metadata": {
        "id": "9IDeo8ZUgQS2"
      },
      "execution_count": null,
      "outputs": []
    },
    {
      "cell_type": "code",
      "source": [
        "word = ['run','runner','running','ran','runs','easily','fairly']"
      ],
      "metadata": {
        "id": "iEB3nSEUgXh7"
      },
      "execution_count": null,
      "outputs": []
    },
    {
      "cell_type": "code",
      "source": [
        "for w in word:\n",
        "    print(w+' ----> '+p_stemmer.stem(w))"
      ],
      "metadata": {
        "colab": {
          "base_uri": "https://localhost:8080/"
        },
        "id": "9UkmUXwlhDPv",
        "outputId": "4009a8a2-3df1-4b8a-8c9c-24a0af55d85d"
      },
      "execution_count": null,
      "outputs": [
        {
          "output_type": "stream",
          "name": "stdout",
          "text": [
            "run ----> run\n",
            "runner ----> runner\n",
            "running ----> run\n",
            "ran ----> ran\n",
            "runs ----> run\n",
            "easily ----> easili\n",
            "fairly ----> fairli\n"
          ]
        }
      ]
    },
    {
      "cell_type": "markdown",
      "source": [
        "Its the second library to get base form of words\n"
      ],
      "metadata": {
        "id": "jdq5dbECi9WH"
      }
    },
    {
      "cell_type": "markdown",
      "source": [
        "it has greater speed than preevious one and it is better than porter"
      ],
      "metadata": {
        "id": "qHhNPLeWkUUn"
      }
    },
    {
      "cell_type": "code",
      "source": [
        "from nltk.stem.snowball import SnowballStemmer"
      ],
      "metadata": {
        "id": "9TDOavztiy9f"
      },
      "execution_count": null,
      "outputs": []
    },
    {
      "cell_type": "markdown",
      "source": [],
      "metadata": {
        "id": "Iv-SL8XhkTmP"
      }
    },
    {
      "cell_type": "code",
      "source": [
        "s_stemmer = SnowballStemmer(language='english')"
      ],
      "metadata": {
        "id": "kmwKkkWQi2Gw"
      },
      "execution_count": null,
      "outputs": []
    },
    {
      "cell_type": "code",
      "source": [
        "words = ['run','runner','running','ran','runs','easily','fairly']\n",
        "word = ['generous','generation','generously','generate']"
      ],
      "metadata": {
        "id": "AZFJ1J88i4lx"
      },
      "execution_count": null,
      "outputs": []
    },
    {
      "cell_type": "code",
      "source": [
        "for w in word:\n",
        "  print(w+' ----> '+s_stemmer.stem(w))"
      ],
      "metadata": {
        "colab": {
          "base_uri": "https://localhost:8080/"
        },
        "id": "-DCuRZ93jDrh",
        "outputId": "ffb58f4e-c102-42c5-ae11-b780d20951a6"
      },
      "execution_count": null,
      "outputs": [
        {
          "output_type": "stream",
          "name": "stdout",
          "text": [
            "generous ----> generous\n",
            "generation ----> generat\n",
            "generously ----> generous\n",
            "generate ----> generat\n"
          ]
        }
      ]
    },
    {
      "cell_type": "code",
      "source": [
        "words = ['consolingly']"
      ],
      "metadata": {
        "id": "nFGgfDCnArNg"
      },
      "execution_count": null,
      "outputs": []
    },
    {
      "cell_type": "code",
      "source": [
        "print('Porter Stemmer:')\n",
        "for x in words:\n",
        "  print(x+' --> '+p_stemmer.stem(x))"
      ],
      "metadata": {
        "colab": {
          "base_uri": "https://localhost:8080/"
        },
        "id": "R2RysD9RAzoF",
        "outputId": "12c8cf65-3231-4a1b-db1e-a28c95b6f05e"
      },
      "execution_count": null,
      "outputs": [
        {
          "output_type": "stream",
          "name": "stdout",
          "text": [
            "Porter Stemmer:\n",
            "consolingly --> consolingli\n"
          ]
        }
      ]
    },
    {
      "cell_type": "code",
      "source": [
        "print('Snowball Stemmer:')\n",
        "for x in words:\n",
        "  print(x+' --> '+s_stemmer.stem(x))"
      ],
      "metadata": {
        "colab": {
          "base_uri": "https://localhost:8080/"
        },
        "id": "OWutOLMjBryB",
        "outputId": "6b64adb9-b343-4fb8-a9f9-99d2731584bb"
      },
      "execution_count": null,
      "outputs": [
        {
          "output_type": "stream",
          "name": "stdout",
          "text": [
            "Snowball Stemmer:\n",
            "consolingly --> consol\n"
          ]
        }
      ]
    },
    {
      "cell_type": "code",
      "source": [
        "phrase = 'I am meeting him tomorrow at the meeting'\n",
        "for word in phrase.split():\n",
        "  print(word+' --> '+p_stemmer.stem(word))"
      ],
      "metadata": {
        "colab": {
          "base_uri": "https://localhost:8080/"
        },
        "id": "xR8STV39CxEc",
        "outputId": "7c63fbd7-08ec-417b-dec8-da0aeb4b719d"
      },
      "execution_count": null,
      "outputs": [
        {
          "output_type": "stream",
          "name": "stdout",
          "text": [
            "I --> i\n",
            "am --> am\n",
            "meeting --> meet\n",
            "him --> him\n",
            "tomorrow --> tomorrow\n",
            "at --> at\n",
            "the --> the\n",
            "meeting --> meet\n"
          ]
        }
      ]
    }
  ]
}